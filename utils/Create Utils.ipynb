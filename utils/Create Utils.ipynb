{
 "cells": [
  {
   "cell_type": "markdown",
   "id": "259613b5-6341-407e-8109-04f8fe6aeaef",
   "metadata": {},
   "source": [
    "### how to import\n",
    "\n",
    "```python\n",
    "import sys\n",
    "from pathlib import Path\n",
    "\n",
    "# In notebook\n",
    "root_dir = Path().resolve().parents[1]  # Adjust if needed\n",
    "sys.path.append(str(root_dir))\n",
    "\n",
    "from utils import general\n",
    "```"
   ]
  },
  {
   "cell_type": "code",
   "execution_count": 4,
   "id": "d2c5ea2c-8ab4-4e78-b1bb-ac5efab14cef",
   "metadata": {},
   "outputs": [
    {
     "name": "stdout",
     "output_type": "stream",
     "text": [
      "Overwriting general.py\n"
     ]
    }
   ],
   "source": [
    "%%writefile general.py\n",
    "\n",
    "import os\n",
    "import pkg_resources\n",
    "\n",
    "def run_command(command=\"\"):\n",
    "    os.system(command)\n",
    "\n",
    "def create_requirements_with_versions(req_name_orig=\"requirements0.txt\", \n",
    "                                      req_name=\"requirements.txt\", quiet=True):\n",
    "    install_command = f\"pip install -r {req_name_orig}\"\n",
    "    if quiet:\n",
    "        install_command+= \" -q\"\n",
    "    run_command(install_command)\n",
    "    \n",
    "    # Load the original package list (no versions)\n",
    "    with open(req_name_orig) as f:\n",
    "        wanted = {line.strip().lower() for line in f if line.strip() and not line.startswith(\"#\")}\n",
    "    \n",
    "    # Get installed distributions\n",
    "    installed = {dist.key: f\"{dist.project_name}=={dist.version}\" for dist in pkg_resources.working_set}\n",
    "    \n",
    "    # Match and save only the ones in your original list\n",
    "    with open(req_name, \"w\") as out:\n",
    "        for name in sorted(wanted):\n",
    "            match = installed.get(name.lower())\n",
    "            if match:\n",
    "                out.write(match + \"\\n\")"
   ]
  },
  {
   "cell_type": "code",
   "execution_count": null,
   "id": "f9ef8387-8332-49ff-a3b7-282b9ccf06c0",
   "metadata": {},
   "outputs": [],
   "source": []
  }
 ],
 "metadata": {
  "kernelspec": {
   "display_name": "Python 3 (ipykernel)",
   "language": "python",
   "name": "python3"
  },
  "language_info": {
   "codemirror_mode": {
    "name": "ipython",
    "version": 3
   },
   "file_extension": ".py",
   "mimetype": "text/x-python",
   "name": "python",
   "nbconvert_exporter": "python",
   "pygments_lexer": "ipython3",
   "version": "3.9.6"
  }
 },
 "nbformat": 4,
 "nbformat_minor": 5
}
