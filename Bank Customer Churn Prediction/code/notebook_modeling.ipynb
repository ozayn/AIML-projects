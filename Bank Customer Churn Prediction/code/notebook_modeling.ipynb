{
 "cells": [
  {
   "cell_type": "code",
   "execution_count": 1,
   "metadata": {},
   "outputs": [],
   "source": [
    "data_dir = '../data'\n",
    "image_dir = '../images'\n",
    "model_dir = '../models'"
   ]
  },
  {
   "cell_type": "code",
   "execution_count": 2,
   "metadata": {
    "executionInfo": {
     "elapsed": 140,
     "status": "ok",
     "timestamp": 1740334813145,
     "user": {
      "displayName": "Azin",
      "userId": "03052143291732337723"
     },
     "user_tz": 300
    },
    "id": "CXm3_uznH4HG"
   },
   "outputs": [],
   "source": [
    "fname = 'BankChurn_clean.csv'\n",
    "target_var = 'Exited'\n",
    "\n",
    "dtype = {\n",
    " 'Gender': 'category',\n",
    " 'Geography': 'category',\n",
    " 'HasCrCard': 'category',\n",
    " 'IsActiveMember': 'category'}\n",
    "\n",
    "label_map = {0: 'Not Exited', 1: 'Exited'}\n",
    "\n",
    "test_size_train_temp = .2\n",
    "test_size_val_test = .5\n",
    "\n",
    "cols_to_drop = []\n",
    "random_state = 1"
   ]
  },
  {
   "cell_type": "code",
   "execution_count": 3,
   "metadata": {
    "executionInfo": {
     "elapsed": 1,
     "status": "ok",
     "timestamp": 1740334813147,
     "user": {
      "displayName": "Azin",
      "userId": "03052143291732337723"
     },
     "user_tz": 300
    },
    "id": "tR_MjP3fBRsv"
   },
   "outputs": [],
   "source": [
    "from datetime import datetime\n",
    "import pandas as pd\n",
    "today = datetime.today().strftime('%Y-%m-%d')"
   ]
  },
  {
   "cell_type": "code",
   "execution_count": 4,
   "metadata": {
    "executionInfo": {
     "elapsed": 1,
     "status": "ok",
     "timestamp": 1740334813917,
     "user": {
      "displayName": "Azin",
      "userId": "03052143291732337723"
     },
     "user_tz": 300
    },
    "id": "VtUOdD06XoKc"
   },
   "outputs": [],
   "source": [
    "def get_saved_model(ind):\n",
    "  model = None\n",
    "  is_saved = False\n",
    "  import os\n",
    "  from tensorflow import keras\n",
    "  if f'model{ind}.keras' in os.listdir(model_dir):\n",
    "    is_saved = True\n",
    "    model = keras.models.load_model(f\"{model_dir}/model{ind}.keras\")\n",
    "  return model, is_saved"
   ]
  },
  {
   "cell_type": "code",
   "execution_count": 5,
   "metadata": {
    "executionInfo": {
     "elapsed": 1,
     "status": "ok",
     "timestamp": 1740334813918,
     "user": {
      "displayName": "Azin",
      "userId": "03052143291732337723"
     },
     "user_tz": 300
    },
    "id": "Vab2qxsGWorV"
   },
   "outputs": [],
   "source": [
    "# import pandas as pd\n",
    "# res = pd.read_csv(f'{model_dir}/results.csv')"
   ]
  },
  {
   "cell_type": "code",
   "execution_count": 6,
   "metadata": {
    "executionInfo": {
     "elapsed": 17,
     "status": "ok",
     "timestamp": 1740334814028,
     "user": {
      "displayName": "Azin",
      "userId": "03052143291732337723"
     },
     "user_tz": 300
    },
    "id": "GPNWRuH9H2gL"
   },
   "outputs": [],
   "source": [
    "df_clean = pd.read_csv(f'{data_dir}/{fname}', dtype=dtype)\n",
    "# df_clean = df_clean.head(300)"
   ]
  },
  {
   "cell_type": "code",
   "execution_count": 7,
   "metadata": {
    "colab": {
     "base_uri": "https://localhost:8080/",
     "height": 423
    },
    "executionInfo": {
     "elapsed": 64,
     "status": "ok",
     "timestamp": 1740334814102,
     "user": {
      "displayName": "Azin",
      "userId": "03052143291732337723"
     },
     "user_tz": 300
    },
    "id": "Qf-2-mTV7UR3",
    "outputId": "6c6294b8-2a8f-481e-c5cd-51a3f4b2a372"
   },
   "outputs": [
    {
     "data": {
      "text/html": [
       "<div>\n",
       "<style scoped>\n",
       "    .dataframe tbody tr th:only-of-type {\n",
       "        vertical-align: middle;\n",
       "    }\n",
       "\n",
       "    .dataframe tbody tr th {\n",
       "        vertical-align: top;\n",
       "    }\n",
       "\n",
       "    .dataframe thead th {\n",
       "        text-align: right;\n",
       "    }\n",
       "</style>\n",
       "<table border=\"1\" class=\"dataframe\">\n",
       "  <thead>\n",
       "    <tr style=\"text-align: right;\">\n",
       "      <th></th>\n",
       "      <th>Age</th>\n",
       "      <th>Balance (K)</th>\n",
       "      <th>CreditScore</th>\n",
       "      <th>EstimatedSalary (K)</th>\n",
       "      <th>Exited</th>\n",
       "      <th>Gender</th>\n",
       "      <th>Geography</th>\n",
       "      <th>HasCrCard</th>\n",
       "      <th>IsActiveMember</th>\n",
       "      <th>NumOfProducts</th>\n",
       "      <th>Tenure</th>\n",
       "    </tr>\n",
       "  </thead>\n",
       "  <tbody>\n",
       "    <tr>\n",
       "      <th>0</th>\n",
       "      <td>42</td>\n",
       "      <td>0.00000</td>\n",
       "      <td>619</td>\n",
       "      <td>101.34888</td>\n",
       "      <td>1</td>\n",
       "      <td>Female</td>\n",
       "      <td>France</td>\n",
       "      <td>1</td>\n",
       "      <td>1</td>\n",
       "      <td>1</td>\n",
       "      <td>2</td>\n",
       "    </tr>\n",
       "    <tr>\n",
       "      <th>1</th>\n",
       "      <td>41</td>\n",
       "      <td>83.80786</td>\n",
       "      <td>608</td>\n",
       "      <td>112.54258</td>\n",
       "      <td>0</td>\n",
       "      <td>Female</td>\n",
       "      <td>Spain</td>\n",
       "      <td>0</td>\n",
       "      <td>1</td>\n",
       "      <td>1</td>\n",
       "      <td>1</td>\n",
       "    </tr>\n",
       "    <tr>\n",
       "      <th>2</th>\n",
       "      <td>42</td>\n",
       "      <td>159.66080</td>\n",
       "      <td>502</td>\n",
       "      <td>113.93157</td>\n",
       "      <td>1</td>\n",
       "      <td>Female</td>\n",
       "      <td>France</td>\n",
       "      <td>1</td>\n",
       "      <td>0</td>\n",
       "      <td>3</td>\n",
       "      <td>8</td>\n",
       "    </tr>\n",
       "    <tr>\n",
       "      <th>3</th>\n",
       "      <td>39</td>\n",
       "      <td>0.00000</td>\n",
       "      <td>699</td>\n",
       "      <td>93.82663</td>\n",
       "      <td>0</td>\n",
       "      <td>Female</td>\n",
       "      <td>France</td>\n",
       "      <td>0</td>\n",
       "      <td>0</td>\n",
       "      <td>2</td>\n",
       "      <td>1</td>\n",
       "    </tr>\n",
       "    <tr>\n",
       "      <th>4</th>\n",
       "      <td>43</td>\n",
       "      <td>125.51082</td>\n",
       "      <td>850</td>\n",
       "      <td>79.08410</td>\n",
       "      <td>0</td>\n",
       "      <td>Female</td>\n",
       "      <td>Spain</td>\n",
       "      <td>1</td>\n",
       "      <td>1</td>\n",
       "      <td>1</td>\n",
       "      <td>2</td>\n",
       "    </tr>\n",
       "    <tr>\n",
       "      <th>...</th>\n",
       "      <td>...</td>\n",
       "      <td>...</td>\n",
       "      <td>...</td>\n",
       "      <td>...</td>\n",
       "      <td>...</td>\n",
       "      <td>...</td>\n",
       "      <td>...</td>\n",
       "      <td>...</td>\n",
       "      <td>...</td>\n",
       "      <td>...</td>\n",
       "      <td>...</td>\n",
       "    </tr>\n",
       "    <tr>\n",
       "      <th>9995</th>\n",
       "      <td>39</td>\n",
       "      <td>0.00000</td>\n",
       "      <td>771</td>\n",
       "      <td>96.27064</td>\n",
       "      <td>0</td>\n",
       "      <td>Male</td>\n",
       "      <td>France</td>\n",
       "      <td>1</td>\n",
       "      <td>0</td>\n",
       "      <td>2</td>\n",
       "      <td>5</td>\n",
       "    </tr>\n",
       "    <tr>\n",
       "      <th>9996</th>\n",
       "      <td>35</td>\n",
       "      <td>57.36961</td>\n",
       "      <td>516</td>\n",
       "      <td>101.69977</td>\n",
       "      <td>0</td>\n",
       "      <td>Male</td>\n",
       "      <td>France</td>\n",
       "      <td>1</td>\n",
       "      <td>1</td>\n",
       "      <td>1</td>\n",
       "      <td>10</td>\n",
       "    </tr>\n",
       "    <tr>\n",
       "      <th>9997</th>\n",
       "      <td>36</td>\n",
       "      <td>0.00000</td>\n",
       "      <td>709</td>\n",
       "      <td>42.08558</td>\n",
       "      <td>1</td>\n",
       "      <td>Female</td>\n",
       "      <td>France</td>\n",
       "      <td>0</td>\n",
       "      <td>1</td>\n",
       "      <td>1</td>\n",
       "      <td>7</td>\n",
       "    </tr>\n",
       "    <tr>\n",
       "      <th>9998</th>\n",
       "      <td>42</td>\n",
       "      <td>75.07531</td>\n",
       "      <td>772</td>\n",
       "      <td>92.88852</td>\n",
       "      <td>1</td>\n",
       "      <td>Male</td>\n",
       "      <td>Germany</td>\n",
       "      <td>1</td>\n",
       "      <td>0</td>\n",
       "      <td>2</td>\n",
       "      <td>3</td>\n",
       "    </tr>\n",
       "    <tr>\n",
       "      <th>9999</th>\n",
       "      <td>28</td>\n",
       "      <td>130.14279</td>\n",
       "      <td>792</td>\n",
       "      <td>38.19078</td>\n",
       "      <td>0</td>\n",
       "      <td>Female</td>\n",
       "      <td>France</td>\n",
       "      <td>1</td>\n",
       "      <td>0</td>\n",
       "      <td>1</td>\n",
       "      <td>4</td>\n",
       "    </tr>\n",
       "  </tbody>\n",
       "</table>\n",
       "<p>10000 rows × 11 columns</p>\n",
       "</div>"
      ],
      "text/plain": [
       "      Age  Balance (K)  CreditScore  EstimatedSalary (K)  Exited  Gender  \\\n",
       "0      42      0.00000          619            101.34888       1  Female   \n",
       "1      41     83.80786          608            112.54258       0  Female   \n",
       "2      42    159.66080          502            113.93157       1  Female   \n",
       "3      39      0.00000          699             93.82663       0  Female   \n",
       "4      43    125.51082          850             79.08410       0  Female   \n",
       "...   ...          ...          ...                  ...     ...     ...   \n",
       "9995   39      0.00000          771             96.27064       0    Male   \n",
       "9996   35     57.36961          516            101.69977       0    Male   \n",
       "9997   36      0.00000          709             42.08558       1  Female   \n",
       "9998   42     75.07531          772             92.88852       1    Male   \n",
       "9999   28    130.14279          792             38.19078       0  Female   \n",
       "\n",
       "     Geography HasCrCard IsActiveMember  NumOfProducts  Tenure  \n",
       "0       France         1              1              1       2  \n",
       "1        Spain         0              1              1       1  \n",
       "2       France         1              0              3       8  \n",
       "3       France         0              0              2       1  \n",
       "4        Spain         1              1              1       2  \n",
       "...        ...       ...            ...            ...     ...  \n",
       "9995    France         1              0              2       5  \n",
       "9996    France         1              1              1      10  \n",
       "9997    France         0              1              1       7  \n",
       "9998   Germany         1              0              2       3  \n",
       "9999    France         1              0              1       4  \n",
       "\n",
       "[10000 rows x 11 columns]"
      ]
     },
     "execution_count": 7,
     "metadata": {},
     "output_type": "execute_result"
    }
   ],
   "source": [
    "df_clean"
   ]
  },
  {
   "cell_type": "code",
   "execution_count": 8,
   "metadata": {
    "colab": {
     "base_uri": "https://localhost:8080/"
    },
    "executionInfo": {
     "elapsed": 10,
     "status": "ok",
     "timestamp": 1740334814205,
     "user": {
      "displayName": "Azin",
      "userId": "03052143291732337723"
     },
     "user_tz": 300
    },
    "id": "4Skjf5ucIboF",
    "outputId": "d5f01d40-ecb5-4224-cd15-82e733def995"
   },
   "outputs": [
    {
     "data": {
      "text/plain": [
       "False"
      ]
     },
     "execution_count": 8,
     "metadata": {},
     "output_type": "execute_result"
    }
   ],
   "source": [
    "df_clean[target_var].dtype =='category'"
   ]
  },
  {
   "cell_type": "code",
   "execution_count": 9,
   "metadata": {
    "executionInfo": {
     "elapsed": 2,
     "status": "ok",
     "timestamp": 1740334814206,
     "user": {
      "displayName": "Azin",
      "userId": "03052143291732337723"
     },
     "user_tz": 300
    },
    "id": "cqkaSucfIOE8"
   },
   "outputs": [],
   "source": [
    "nunique = df_clean[target_var].nunique()\n",
    "is_classification = df_clean[target_var].dtype in [int, 'category'] and nunique < 20\n",
    "multi_class = is_classification and nunique > 2\n",
    "loss = 'binary_crossentropy' if is_classification else 'mean_squared_error'\n",
    "if multi_class:\n",
    "  loss = 'categorical_crossentropy'\n",
    "\n",
    "chosen_metric = \"recall\" if is_classification else \"r2_score\"\n",
    "num_classes = nunique if is_classification else None\n",
    "out_activation = 'sigmoid' if is_classification else 'linear'\n",
    "if multi_class:\n",
    "  out_activation = 'softmax'"
   ]
  },
  {
   "cell_type": "code",
   "execution_count": 10,
   "metadata": {
    "executionInfo": {
     "elapsed": 1,
     "status": "ok",
     "timestamp": 1740334814206,
     "user": {
      "displayName": "Azin",
      "userId": "03052143291732337723"
     },
     "user_tz": 300
    },
    "id": "uy_HQpUh7aDm"
   },
   "outputs": [
    {
     "name": "stderr",
     "output_type": "stream",
     "text": [
      "/Users/oz/Library/Python/3.9/lib/python/site-packages/urllib3/__init__.py:35: NotOpenSSLWarning: urllib3 v2 only supports OpenSSL 1.1.1+, currently the 'ssl' module is compiled with 'LibreSSL 2.8.3'. See: https://github.com/urllib3/urllib3/issues/3020\n",
      "  warnings.warn(\n"
     ]
    }
   ],
   "source": [
    "# Libraries to help with reading and manipulating data\n",
    "import numpy as np\n",
    "import pandas as pd\n",
    "import time\n",
    "\n",
    "import os\n",
    "import matplotlib.pyplot as plt\n",
    "import matplotlib.image as mpimg\n",
    "\n",
    "# Libraries to help with data visualization\n",
    "import matplotlib.pyplot as plt\n",
    "import seaborn as sns\n",
    "sns.set()\n",
    "\n",
    "# Removes the limit for the number of displayed columns\n",
    "pd.set_option(\"display.max_columns\", None)\n",
    "# Sets the limit for the number of displayed rows\n",
    "pd.set_option(\"display.max_rows\", 200)\n",
    "\n",
    "# to split the data into train and test\n",
    "from sklearn.model_selection import train_test_split\n",
    "from sklearn.preprocessing import StandardScaler\n",
    "from sklearn.metrics import (\n",
    "    f1_score,\n",
    "    accuracy_score,\n",
    "    recall_score,\n",
    "    precision_score,\n",
    "    confusion_matrix,\n",
    "    roc_auc_score,\n",
    ")\n",
    "from sklearn.metrics import (\n",
    "    mean_absolute_error,\n",
    "    mean_squared_error,\n",
    "    r2_score\n",
    ")\n",
    "\n",
    "import tensorflow as tf #An end-to-end open source machine learning platform\n",
    "from tensorflow import keras  # High-level neural networks API for deep learning.\n",
    "from keras import backend   # Abstraction layer for neural network backend engines.\n",
    "from keras.models import Sequential  # Model for building NN sequentially.\n",
    "from keras.layers import Dense, Dropout\n",
    "\n",
    "\n",
    "# To oversample and undersample data\n",
    "from imblearn.over_sampling import SMOTE\n",
    "from imblearn.under_sampling import RandomUnderSampler\n",
    "\n",
    "import random\n",
    "\n",
    "# to suppress warnings\n",
    "import warnings\n",
    "warnings.filterwarnings(\"ignore\")\n",
    "import inspect"
   ]
  },
  {
   "cell_type": "code",
   "execution_count": 11,
   "metadata": {
    "executionInfo": {
     "elapsed": 0,
     "status": "ok",
     "timestamp": 1740334814206,
     "user": {
      "displayName": "Azin",
      "userId": "03052143291732337723"
     },
     "user_tz": 300
    },
    "id": "tcu030FHViPt"
   },
   "outputs": [],
   "source": [
    "def clean_reset_seed(random_state):\n",
    "  tf.keras.backend.clear_session()\n",
    "  if not is_classification:\n",
    "    keras.utils.set_random_seed(random_state)\n",
    "\n",
    "    # If using TensorFlow, this will make GPU ops as deterministic as possible,\n",
    "    # but it will affect the overall performance, so be mindful of that.\n",
    "    tf.config.experimental.enable_op_determinism()\n",
    "  else:\n",
    "    # Fixing the seed for random number generators\n",
    "    np.random.seed(random_state)\n",
    "    random.seed(random_state)\n",
    "    tf.random.set_seed(random_state)"
   ]
  },
  {
   "cell_type": "code",
   "execution_count": 12,
   "metadata": {
    "executionInfo": {
     "elapsed": 727,
     "status": "ok",
     "timestamp": 1740334814934,
     "user": {
      "displayName": "Azin",
      "userId": "03052143291732337723"
     },
     "user_tz": 300
    },
    "id": "Lv0YecqsjNrh"
   },
   "outputs": [],
   "source": [
    "clean_reset_seed(random_state)"
   ]
  },
  {
   "cell_type": "code",
   "execution_count": 13,
   "metadata": {
    "executionInfo": {
     "elapsed": 1,
     "status": "ok",
     "timestamp": 1740334814934,
     "user": {
      "displayName": "Azin",
      "userId": "03052143291732337723"
     },
     "user_tz": 300
    },
    "id": "IN6D54BZ-7e3"
   },
   "outputs": [],
   "source": [
    "def add_dummies(df, cols=[]):\n",
    "  df = pd.get_dummies(df, drop_first=True)\n",
    "  df = df.astype('float')\n",
    "  if cols:\n",
    "    cols_not_in_df = [c for c in cols if c not in df.columns]\n",
    "    for c in cols_not_in_df:\n",
    "      df[c] = 0\n",
    "    return df[cols]\n",
    "  return df\n",
    "\n",
    "def print_missing_values_columns(df, name=None):\n",
    "    \"\"\"\n",
    "    Filters and prints only the columns from the DataFrame df that contain missing values.\n",
    "\n",
    "    Parameters:\n",
    "    - df: DataFrame\n",
    "        The DataFrame to check for missing values.\n",
    "    \"\"\"\n",
    "    cols = df.columns[df.isnull().any()]\n",
    "    counts = df[cols].isnull().sum()\n",
    "    counts.rename('Missing Value Count', inplace=True)\n",
    "    counts.sort_values(ascending=False, inplace=True)\n",
    "    if name:\n",
    "      counts.index.name = name\n",
    "\n",
    "    # if counts.shape[0] > 0:\n",
    "    #   display(counts)\n",
    "    return counts\n",
    "\n",
    "\n",
    "\n",
    "def get_var_name(var):\n",
    "    callers_local_vars = inspect.currentframe().f_back.f_locals.items()\n",
    "    return [var_name for var_name, var_val in callers_local_vars if var_val is var]\n",
    "\n",
    "\n",
    "def replace_missing_values_groupby(data, groupby_cols=[]):\n",
    "  missing_cols = []\n",
    "  for k, v in data.items():\n",
    "    if 'x_' in k:\n",
    "      counts = print_missing_values_columns(v, k)\n",
    "      missing_cols.extend(counts.index.tolist())\n",
    "\n",
    "  missing_cols = list(set(missing_cols))\n",
    "  if len(missing_cols)== 0:\n",
    "    print('There are no missing values')\n",
    "    return data\n",
    "\n",
    "  print('\\nColumns with missing values:', ', '.join(missing_cols))\n",
    "\n",
    "  if groupby_cols:\n",
    "    # Step 1: Calculate the median of specified columns in x_train grouped by groupby_cols\n",
    "    grouped_median = data['x_train'].groupby(groupby_cols)[missing_cols].median()\n",
    "\n",
    "    # Step 2: Use the calculated median to fill missing values in specified columns for corresponding groups in train, validation and test data\n",
    "    for name in ['x_train', 'x_validation', 'x_test']:\n",
    "      for col in missing_cols:\n",
    "        x = data[name]\n",
    "        get_row_tuple = lambda row: tuple([row[c] for c in groupby_cols])\n",
    "        x[col] = x.apply(lambda row: row[col] if not pd.isna(row[col]) else grouped_median[col].get(get_row_tuple(row), np.nan), axis=1)\n",
    "        data.update({name: x})\n",
    "  else:\n",
    "    # print('Impute using the median.')\n",
    "    # Step 1: Calculate the median of specified columns in x_train\n",
    "    median = data['x_train'][missing_cols].median()\n",
    "\n",
    "    new_missing_cols = []\n",
    "    # Step 2: Use the calculated median to fill missing values in specified columns for corresponding groups in train, validation and test data\n",
    "    for name in ['x_train', 'x_validation', 'x_test']:\n",
    "      for col in missing_cols:\n",
    "        x = data[name]\n",
    "        x[col] = x[col].fillna(median[col])\n",
    "        data.update({name: x})\n",
    "      counts = print_missing_values_columns(x, name)\n",
    "      new_missing_cols.extend(counts.index.tolist())\n",
    "    new_missing_cols = list(set(new_missing_cols))\n",
    "    if len(new_missing_cols) == 0:\n",
    "      print('There are no missing values')\n",
    "  return data\n"
   ]
  },
  {
   "cell_type": "code",
   "execution_count": 14,
   "metadata": {
    "colab": {
     "base_uri": "https://localhost:8080/",
     "height": 206
    },
    "executionInfo": {
     "elapsed": 3,
     "status": "ok",
     "timestamp": 1740334814936,
     "user": {
      "displayName": "Azin",
      "userId": "03052143291732337723"
     },
     "user_tz": 300
    },
    "id": "sSVuXRqb8vkb",
    "outputId": "dce47360-71e4-4e9c-baad-1a46f89eae0f"
   },
   "outputs": [
    {
     "data": {
      "text/html": [
       "<div>\n",
       "<style scoped>\n",
       "    .dataframe tbody tr th:only-of-type {\n",
       "        vertical-align: middle;\n",
       "    }\n",
       "\n",
       "    .dataframe tbody tr th {\n",
       "        vertical-align: top;\n",
       "    }\n",
       "\n",
       "    .dataframe thead th {\n",
       "        text-align: right;\n",
       "    }\n",
       "</style>\n",
       "<table border=\"1\" class=\"dataframe\">\n",
       "  <thead>\n",
       "    <tr style=\"text-align: right;\">\n",
       "      <th></th>\n",
       "      <th>Age</th>\n",
       "      <th>Balance (K)</th>\n",
       "      <th>CreditScore</th>\n",
       "      <th>EstimatedSalary (K)</th>\n",
       "      <th>Exited</th>\n",
       "      <th>Gender</th>\n",
       "      <th>Geography</th>\n",
       "      <th>HasCrCard</th>\n",
       "      <th>IsActiveMember</th>\n",
       "      <th>NumOfProducts</th>\n",
       "      <th>Tenure</th>\n",
       "    </tr>\n",
       "  </thead>\n",
       "  <tbody>\n",
       "    <tr>\n",
       "      <th>0</th>\n",
       "      <td>42</td>\n",
       "      <td>0.00000</td>\n",
       "      <td>619</td>\n",
       "      <td>101.34888</td>\n",
       "      <td>1</td>\n",
       "      <td>Female</td>\n",
       "      <td>France</td>\n",
       "      <td>1</td>\n",
       "      <td>1</td>\n",
       "      <td>1</td>\n",
       "      <td>2</td>\n",
       "    </tr>\n",
       "    <tr>\n",
       "      <th>1</th>\n",
       "      <td>41</td>\n",
       "      <td>83.80786</td>\n",
       "      <td>608</td>\n",
       "      <td>112.54258</td>\n",
       "      <td>0</td>\n",
       "      <td>Female</td>\n",
       "      <td>Spain</td>\n",
       "      <td>0</td>\n",
       "      <td>1</td>\n",
       "      <td>1</td>\n",
       "      <td>1</td>\n",
       "    </tr>\n",
       "    <tr>\n",
       "      <th>2</th>\n",
       "      <td>42</td>\n",
       "      <td>159.66080</td>\n",
       "      <td>502</td>\n",
       "      <td>113.93157</td>\n",
       "      <td>1</td>\n",
       "      <td>Female</td>\n",
       "      <td>France</td>\n",
       "      <td>1</td>\n",
       "      <td>0</td>\n",
       "      <td>3</td>\n",
       "      <td>8</td>\n",
       "    </tr>\n",
       "    <tr>\n",
       "      <th>3</th>\n",
       "      <td>39</td>\n",
       "      <td>0.00000</td>\n",
       "      <td>699</td>\n",
       "      <td>93.82663</td>\n",
       "      <td>0</td>\n",
       "      <td>Female</td>\n",
       "      <td>France</td>\n",
       "      <td>0</td>\n",
       "      <td>0</td>\n",
       "      <td>2</td>\n",
       "      <td>1</td>\n",
       "    </tr>\n",
       "    <tr>\n",
       "      <th>4</th>\n",
       "      <td>43</td>\n",
       "      <td>125.51082</td>\n",
       "      <td>850</td>\n",
       "      <td>79.08410</td>\n",
       "      <td>0</td>\n",
       "      <td>Female</td>\n",
       "      <td>Spain</td>\n",
       "      <td>1</td>\n",
       "      <td>1</td>\n",
       "      <td>1</td>\n",
       "      <td>2</td>\n",
       "    </tr>\n",
       "  </tbody>\n",
       "</table>\n",
       "</div>"
      ],
      "text/plain": [
       "   Age  Balance (K)  CreditScore  EstimatedSalary (K)  Exited  Gender  \\\n",
       "0   42      0.00000          619            101.34888       1  Female   \n",
       "1   41     83.80786          608            112.54258       0  Female   \n",
       "2   42    159.66080          502            113.93157       1  Female   \n",
       "3   39      0.00000          699             93.82663       0  Female   \n",
       "4   43    125.51082          850             79.08410       0  Female   \n",
       "\n",
       "  Geography HasCrCard IsActiveMember  NumOfProducts  Tenure  \n",
       "0    France         1              1              1       2  \n",
       "1     Spain         0              1              1       1  \n",
       "2    France         1              0              3       8  \n",
       "3    France         0              0              2       1  \n",
       "4     Spain         1              1              1       2  "
      ]
     },
     "execution_count": 14,
     "metadata": {},
     "output_type": "execute_result"
    }
   ],
   "source": [
    "df_clean.head()"
   ]
  },
  {
   "cell_type": "code",
   "execution_count": 15,
   "metadata": {
    "colab": {
     "base_uri": "https://localhost:8080/"
    },
    "executionInfo": {
     "elapsed": 3,
     "status": "ok",
     "timestamp": 1740334814939,
     "user": {
      "displayName": "Azin",
      "userId": "03052143291732337723"
     },
     "user_tz": 300
    },
    "id": "UhhjwYzJveSK",
    "outputId": "5e3c4816-51c8-4356-f5b9-96397fe72f3b"
   },
   "outputs": [
    {
     "name": "stdout",
     "output_type": "stream",
     "text": [
      "null 0\n",
      "duplicates 0\n"
     ]
    }
   ],
   "source": [
    "print('null', df_clean.isnull().sum().sum())\n",
    "print('duplicates' , df_clean.duplicated().sum())\n",
    "data_clean = df_clean.drop_duplicates()"
   ]
  },
  {
   "cell_type": "code",
   "execution_count": 16,
   "metadata": {
    "executionInfo": {
     "elapsed": 0,
     "status": "ok",
     "timestamp": 1740334814940,
     "user": {
      "displayName": "Azin",
      "userId": "03052143291732337723"
     },
     "user_tz": 300
    },
    "id": "EGu7aKk2R4Ht"
   },
   "outputs": [],
   "source": [
    "def get_outliers(df):\n",
    "  # checking the % outliers\n",
    "  data_numeric = df.select_dtypes(include=[\"float64\", \"int64\"])\n",
    "\n",
    "  Q1 = data_numeric.quantile(0.25)  # To find the 25th percentile\n",
    "  Q3 = data_numeric.quantile(0.75)  # To find the 75th percentile\n",
    "\n",
    "  IQR = Q3 - Q1  # Inter Quantile Range (75th perentile - 25th percentile)\n",
    "\n",
    "  # Finding lower and upper bounds for all values. All values outside these bounds are outliers\n",
    "  lower = (Q1 - 1.5 * IQR)\n",
    "  upper = (Q3 + 1.5 * IQR)\n",
    "\n",
    "  # cols = [c for c in data_numeric.columns if not data[c].nunique() < 7]\n",
    "  # data_numeric = data_numeric[cols]\n",
    "  outliers = (data_numeric < lower) | (data_numeric > upper)\n",
    "  outlier_count = outliers.sum(axis=1)\n",
    "  outlier_rows = df[outlier_count > 0]\n",
    "  out = (outliers.sum() / len(df) * 100).round(1)\n",
    "  out.index.name='Column'\n",
    "  out.name='Outlier %'\n",
    "  out.sort_values(ascending=False, inplace=True)\n",
    "  display(out[out>0])\n",
    "  outlier_columns = out[out>0].index.tolist()\n",
    "\n",
    "  df_new = df.copy()\n",
    "\n",
    "  for col in outlier_columns:\n",
    "    r0 = df_new.shape[0]\n",
    "    df_new = df_new[(df_new[col] >= lower[col]) & (df_new[col] <= upper[col])]\n",
    "    r1 = df_new.shape[0]\n",
    "    print(col, round((r0-r1)/float(r0),2))\n",
    "\n",
    "  # outlier detection using boxplot\n",
    "  numeric_columns = df.select_dtypes(include=np.number).columns.tolist()\n",
    "\n",
    "\n",
    "  plt.figure(figsize=(15, 6))\n",
    "\n",
    "  for i, variable in enumerate(outlier_columns):\n",
    "      plt.subplot(2, 5, i + 1)\n",
    "      plt.boxplot(df_clean[variable], whis=1.5)\n",
    "      plt.tight_layout()\n",
    "      plt.title(variable)\n",
    "\n",
    "  plt.savefig(f\"{image_dir}/outlier_boxplot.png\", bbox_inches='tight');\n",
    "  plt.show()"
   ]
  },
  {
   "cell_type": "code",
   "execution_count": 17,
   "metadata": {
    "colab": {
     "base_uri": "https://localhost:8080/",
     "height": 579
    },
    "executionInfo": {
     "elapsed": 1061,
     "status": "ok",
     "timestamp": 1740334816002,
     "user": {
      "displayName": "Azin",
      "userId": "03052143291732337723"
     },
     "user_tz": 300
    },
    "id": "b-54tWX6R2uy",
    "outputId": "01effd7a-4cce-4079-96ff-d24bbef3ca06"
   },
   "outputs": [
    {
     "data": {
      "text/plain": [
       "Column\n",
       "Age              3.6\n",
       "NumOfProducts    0.6\n",
       "CreditScore      0.2\n",
       "Name: Outlier %, dtype: float64"
      ]
     },
     "metadata": {},
     "output_type": "display_data"
    },
    {
     "name": "stdout",
     "output_type": "stream",
     "text": [
      "Age 0.04\n",
      "NumOfProducts 0.01\n",
      "CreditScore 0.0\n"
     ]
    },
    {
     "data": {
      "image/png": "[encoded data removed]",
      "text/plain": [
       "<Figure size 1500x600 with 3 Axes>"
      ]
     },
     "metadata": {},
     "output_type": "display_data"
    }
   ],
   "source": [
    "get_outliers(df_clean.drop(target_var, axis=1))"
   ]
  },
  {
   "cell_type": "markdown",
   "metadata": {
    "id": "ge2SRElcjwbi"
   },
   "source": [
    "## Train Validation Test Split"
   ]
  },
  {
   "cell_type": "code",
   "execution_count": 18,
   "metadata": {
    "executionInfo": {
     "elapsed": 2,
     "status": "ok",
     "timestamp": 1740334816004,
     "user": {
      "displayName": "Azin",
      "userId": "03052143291732337723"
     },
     "user_tz": 300
    },
    "id": "XqL2OFwv8nO8"
   },
   "outputs": [],
   "source": [
    "# defining the dependent and independent variables\n",
    "X = df_clean.drop([target_var], axis=1)\n",
    "Y = df_clean[target_var]"
   ]
  },
  {
   "cell_type": "code",
   "execution_count": 19,
   "metadata": {
    "colab": {
     "base_uri": "https://localhost:8080/"
    },
    "executionInfo": {
     "elapsed": 6,
     "status": "ok",
     "timestamp": 1740334816010,
     "user": {
      "displayName": "Azin",
      "userId": "03052143291732337723"
     },
     "user_tz": 300
    },
    "id": "nmYKZLwe9B7f",
    "outputId": "7956203d-23b7-4867-8d8a-901934783b78"
   },
   "outputs": [
    {
     "name": "stdout",
     "output_type": "stream",
     "text": [
      "Numerical columns: Age, Balance (K), CreditScore, EstimatedSalary (K), NumOfProducts, Tenure\n",
      "Columns to convert to dummy variables: ['Gender', 'Geography']\n"
     ]
    }
   ],
   "source": [
    "to_dummy_cols = [c for c in X.select_dtypes(include=['category']).columns.tolist()\n",
    "              if sorted(X[c].unique().tolist())!=['0', '1']]\n",
    "num_columns = X.select_dtypes(include=['float', 'int']).columns.tolist()\n",
    "print(f\"Numerical columns: {', '.join(num_columns)}\")\n",
    "print(f\"Columns to convert to dummy variables: {to_dummy_cols}\")\n",
    "X = pd.get_dummies(X, columns=to_dummy_cols, drop_first=True)\n",
    "X = X.astype('float')"
   ]
  },
  {
   "cell_type": "code",
   "execution_count": 20,
   "metadata": {
    "executionInfo": {
     "elapsed": 11,
     "status": "ok",
     "timestamp": 1740334816021,
     "user": {
      "displayName": "Azin",
      "userId": "03052143291732337723"
     },
     "user_tz": 300
    },
    "id": "We1OtJ-eAFlx"
   },
   "outputs": [],
   "source": [
    "if cols_to_drop:\n",
    "  print('Dropping columns: ', ', '.join(cols_to_drop))\n",
    "  X = X.drop(cols_to_drop,axis=1)"
   ]
  },
  {
   "cell_type": "code",
   "execution_count": 21,
   "metadata": {
    "colab": {
     "base_uri": "https://localhost:8080/"
    },
    "executionInfo": {
     "elapsed": 16,
     "status": "ok",
     "timestamp": 1740334816036,
     "user": {
      "displayName": "Azin",
      "userId": "03052143291732337723"
     },
     "user_tz": 300
    },
    "id": "rtASsroj9XrY",
    "outputId": "fce7ab40-3885-4e80-f100-8f1f6cc49477"
   },
   "outputs": [
    {
     "name": "stdout",
     "output_type": "stream",
     "text": [
      "Splitting the data in 80:20 ratio for train and temporary data\n",
      "Splitting the temporary data in 50:50 ratio for validation and test data\n"
     ]
    }
   ],
   "source": [
    "print(f'Splitting the data in {int((1-test_size_train_temp)*100)}:{int(test_size_train_temp*100)} ratio for train and temporary data')\n",
    "print(f'Splitting the temporary data in {int((1-test_size_val_test)*100)}:{int(test_size_val_test*100)} ratio for validation and test data')"
   ]
  },
  {
   "cell_type": "code",
   "execution_count": 22,
   "metadata": {
    "executionInfo": {
     "elapsed": 49,
     "status": "ok",
     "timestamp": 1740334816085,
     "user": {
      "displayName": "Azin",
      "userId": "03052143291732337723"
     },
     "user_tz": 300
    },
    "id": "sm_Le_pW82AF"
   },
   "outputs": [],
   "source": [
    "x_train, x_temp, y_train, y_temp = train_test_split(X, Y,\n",
    "                                                    test_size=test_size_train_temp,\n",
    "                                                    random_state=random_state,\n",
    "                                                    stratify=Y,\n",
    "                                                    shuffle = True)\n",
    "\n",
    "x_validation, x_test, y_validation, y_test = train_test_split(x_temp,y_temp,\n",
    "                                             test_size=test_size_val_test,\n",
    "                                             random_state=random_state,\n",
    "                                             stratify=y_temp,\n",
    "                                             shuffle = True)"
   ]
  },
  {
   "cell_type": "code",
   "execution_count": 23,
   "metadata": {
    "executionInfo": {
     "elapsed": 2,
     "status": "ok",
     "timestamp": 1740334816088,
     "user": {
      "displayName": "Azin",
      "userId": "03052143291732337723"
     },
     "user_tz": 300
    },
    "id": "_1Lql8F__DN9"
   },
   "outputs": [],
   "source": [
    "data = {k: eval(k) for k in [f'x_{n}'\n",
    "                             for n in ['train', 'validation', 'test']] +\n",
    "                              [f'y_{n}' for n in ['train', 'validation', 'test']]}\n",
    "\n",
    "\n",
    "def get_class_proportions(d):\n",
    "  return (100*d.value_counts(normalize=True)).round(2).to_dict()\n",
    "\n",
    "\n",
    "def print_data_shapes(data, name=''):\n",
    "  over_or_under = False\n",
    "  part_shapes = pd.DataFrame(columns=['Rows', 'Columns', 'Proportion %', 'Class Proportions %'])\n",
    "  L = ['train', 'validation', 'test']\n",
    "  if 'over' in name.lower() or 'under' in name.lower():\n",
    "    over_or_under = True\n",
    "    L = ['train', 'validation']\n",
    "  for n in L:\n",
    "    part_shapes.loc[f'X {n.title()}'] = [data[f'x_{n}'].shape[0], data[f'x_{n}'].shape[1], round(data[f'x_{n}'].shape[0]/X.shape[0]*100), get_class_proportions(data[f'y_{n}'])]\n",
    "  part_shapes['Rows']=part_shapes['Rows'].apply(lambda x: f'{x:,}')\n",
    "  if name:\n",
    "    part_shapes.index.name = name\n",
    "\n",
    "  if over_or_under:\n",
    "    part_shapes.drop('Proportion %', axis=1, inplace=True)\n",
    "\n",
    "  display(part_shapes)"
   ]
  },
  {
   "cell_type": "code",
   "execution_count": 24,
   "metadata": {
    "executionInfo": {
     "elapsed": 66,
     "status": "ok",
     "timestamp": 1740334816154,
     "user": {
      "displayName": "Azin",
      "userId": "03052143291732337723"
     },
     "user_tz": 300
    },
    "id": "TO74JAmKXLIl"
   },
   "outputs": [],
   "source": [
    "def get_loss_metric(chosen_metric):\n",
    "  names = os.listdir(image_dir)\n",
    "  out = [f'{image_dir}/{f}' for f in names if f'loss_{chosen_metric}' in f]\n",
    "  return out\n",
    "\n",
    "def show_image(path):\n",
    "\n",
    "  # Load the image from a file\n",
    "  img = mpimg.imread(path)  # Replace with your image path\n",
    "  plt.figure(figsize=(4, 8))\n",
    "  # Display the image\n",
    "  plt.imshow(img)\n",
    "  plt.axis('off')  # Hides the axis for a cleaner display\n",
    "  plt.show()\n",
    "\n",
    "def show_specific_metric_loss(index, chosen_metric):\n",
    "  path = f'{image_dir}/model_{index}_loss_{chosen_metric}.png'\n",
    "  if path.split('/')[1] in os.listdir(image_dir):\n",
    "    show_image(path)"
   ]
  },
  {
   "cell_type": "code",
   "execution_count": 25,
   "metadata": {
    "colab": {
     "base_uri": "https://localhost:8080/",
     "height": 174
    },
    "executionInfo": {
     "elapsed": 59,
     "status": "ok",
     "timestamp": 1740334816212,
     "user": {
      "displayName": "Azin",
      "userId": "03052143291732337723"
     },
     "user_tz": 300
    },
    "id": "BW2ynn3iZqGY",
    "outputId": "8c441db8-e55a-46a1-ab7e-62094c2a8ca9"
   },
   "outputs": [
    {
     "data": {
      "text/html": [
       "<div>\n",
       "<style scoped>\n",
       "    .dataframe tbody tr th:only-of-type {\n",
       "        vertical-align: middle;\n",
       "    }\n",
       "\n",
       "    .dataframe tbody tr th {\n",
       "        vertical-align: top;\n",
       "    }\n",
       "\n",
       "    .dataframe thead th {\n",
       "        text-align: right;\n",
       "    }\n",
       "</style>\n",
       "<table border=\"1\" class=\"dataframe\">\n",
       "  <thead>\n",
       "    <tr style=\"text-align: right;\">\n",
       "      <th></th>\n",
       "      <th>Rows</th>\n",
       "      <th>Columns</th>\n",
       "      <th>Proportion %</th>\n",
       "      <th>Class Proportions %</th>\n",
       "    </tr>\n",
       "    <tr>\n",
       "      <th>Original</th>\n",
       "      <th></th>\n",
       "      <th></th>\n",
       "      <th></th>\n",
       "      <th></th>\n",
       "    </tr>\n",
       "  </thead>\n",
       "  <tbody>\n",
       "    <tr>\n",
       "      <th>X Train</th>\n",
       "      <td>8,000</td>\n",
       "      <td>11</td>\n",
       "      <td>80</td>\n",
       "      <td>{0: 79.62, 1: 20.38}</td>\n",
       "    </tr>\n",
       "    <tr>\n",
       "      <th>X Validation</th>\n",
       "      <td>1,000</td>\n",
       "      <td>11</td>\n",
       "      <td>10</td>\n",
       "      <td>{0: 79.7, 1: 20.3}</td>\n",
       "    </tr>\n",
       "    <tr>\n",
       "      <th>X Test</th>\n",
       "      <td>1,000</td>\n",
       "      <td>11</td>\n",
       "      <td>10</td>\n",
       "      <td>{0: 79.6, 1: 20.4}</td>\n",
       "    </tr>\n",
       "  </tbody>\n",
       "</table>\n",
       "</div>"
      ],
      "text/plain": [
       "               Rows  Columns  Proportion %   Class Proportions %\n",
       "Original                                                        \n",
       "X Train       8,000       11            80  {0: 79.62, 1: 20.38}\n",
       "X Validation  1,000       11            10    {0: 79.7, 1: 20.3}\n",
       "X Test        1,000       11            10    {0: 79.6, 1: 20.4}"
      ]
     },
     "metadata": {},
     "output_type": "display_data"
    }
   ],
   "source": [
    "print_data_shapes(data, name='Original')"
   ]
  },
  {
   "cell_type": "markdown",
   "metadata": {
    "id": "6Fj4ZgdkjmRe"
   },
   "source": [
    "## Missing Value Treatment"
   ]
  },
  {
   "cell_type": "code",
   "execution_count": 26,
   "metadata": {
    "colab": {
     "base_uri": "https://localhost:8080/"
    },
    "executionInfo": {
     "elapsed": 11,
     "status": "ok",
     "timestamp": 1740334816220,
     "user": {
      "displayName": "Azin",
      "userId": "03052143291732337723"
     },
     "user_tz": 300
    },
    "id": "ZZOWvH5UBZeV",
    "outputId": "b8c9ebb1-0272-47d3-e547-7499e1153484"
   },
   "outputs": [
    {
     "name": "stdout",
     "output_type": "stream",
     "text": [
      "There are no missing values.\n"
     ]
    }
   ],
   "source": [
    "need_missing_value_treatment = False\n",
    "missing_cols = X.columns[X.isnull().any()].tolist()\n",
    "non_missing_cols = [c for c in X.columns if c in missing_cols]\n",
    "if len(missing_cols) > 0:\n",
    "  need_missing_value_treatment = True\n",
    "  print('Columns with missing values:', ', '.join(missing_cols))\n",
    "else:\n",
    "  print('There are no missing values.')\n",
    "\n",
    "  for k, v in data.items():\n",
    "    if 'x_' in k:\n",
    "      counts = print_missing_values_columns(v, k)\n",
    "      if counts.shape[0]>0:\n",
    "        display(counts)\n",
    "\n",
    "if need_missing_value_treatment:\n",
    "  # data = replace_missing_values_groupby(data, groupby_cols=['Brand', 'Model'])\n",
    "  # data = replace_missing_values_groupby(data, groupby_cols=['Brand'])\n",
    "  data = replace_missing_values_groupby(data, groupby_cols=[])"
   ]
  },
  {
   "cell_type": "markdown",
   "metadata": {
    "id": "Wani9933xBbW"
   },
   "source": [
    "## Convert y to categorical"
   ]
  },
  {
   "cell_type": "code",
   "execution_count": 27,
   "metadata": {
    "executionInfo": {
     "elapsed": 53,
     "status": "ok",
     "timestamp": 1740334816281,
     "user": {
      "displayName": "Azin",
      "userId": "03052143291732337723"
     },
     "user_tz": 300
    },
    "id": "0hzYsDIAwA8N"
   },
   "outputs": [],
   "source": [
    "if is_classification:\n",
    "  if num_classes > 2:\n",
    "    for name, _ in data.items():\n",
    "      if 'y_' in name:\n",
    "        _ = keras.utils.to_categorical(_, num_classes)\n",
    "        print(name)\n",
    "        print(_.shape)\n",
    "        data.update({name: _})"
   ]
  },
  {
   "cell_type": "markdown",
   "metadata": {
    "id": "Y_BB-ZDdkJKR"
   },
   "source": [
    "## Normalizing the Numerical Values"
   ]
  },
  {
   "cell_type": "code",
   "execution_count": 28,
   "metadata": {
    "colab": {
     "base_uri": "https://localhost:8080/"
    },
    "executionInfo": {
     "elapsed": 7,
     "status": "ok",
     "timestamp": 1740334816287,
     "user": {
      "displayName": "Azin",
      "userId": "03052143291732337723"
     },
     "user_tz": 300
    },
    "id": "s0iIikK8j6h1",
    "outputId": "7a89e884-bf32-4f0f-cad3-05ccaa753459"
   },
   "outputs": [
    {
     "name": "stdout",
     "output_type": "stream",
     "text": [
      "Numerical columns:  Age, Balance (K), CreditScore, EstimatedSalary (K), NumOfProducts, Tenure\n"
     ]
    }
   ],
   "source": [
    "# Define the columns to scale\n",
    "print('Numerical columns: ', ', '.join(num_columns))\n",
    "\n",
    "# Initialize the StandardScaler\n",
    "scaler = StandardScaler()\n",
    "\n",
    "# Fit the scaler to the selected columns in the x_train data\n",
    "scaler.fit(data['x_train'][num_columns])\n",
    "\n",
    "# Transform selected columns in x_train, x_val, and x_test using the fitted scaler\n",
    "\n",
    "for name, x in data.items():\n",
    "  if 'x_' in name:\n",
    "    x[num_columns] = scaler.transform(x[num_columns])\n",
    "    data.update({name: x})"
   ]
  },
  {
   "cell_type": "markdown",
   "metadata": {
    "id": "DCNORY1bNnY8"
   },
   "source": [
    "# encoding the categorical variables"
   ]
  },
  {
   "cell_type": "code",
   "execution_count": 29,
   "metadata": {
    "colab": {
     "base_uri": "https://localhost:8080/",
     "height": 206
    },
    "executionInfo": {
     "elapsed": 70,
     "status": "ok",
     "timestamp": 1740334816362,
     "user": {
      "displayName": "Azin",
      "userId": "03052143291732337723"
     },
     "user_tz": 300
    },
    "id": "TAeIRO-Ww-AB",
    "outputId": "ae19836f-2726-4145-fe8a-280448c91c9f"
   },
   "outputs": [
    {
     "data": {
      "text/html": [
       "<div>\n",
       "<style scoped>\n",
       "    .dataframe tbody tr th:only-of-type {\n",
       "        vertical-align: middle;\n",
       "    }\n",
       "\n",
       "    .dataframe tbody tr th {\n",
       "        vertical-align: top;\n",
       "    }\n",
       "\n",
       "    .dataframe thead th {\n",
       "        text-align: right;\n",
       "    }\n",
       "</style>\n",
       "<table border=\"1\" class=\"dataframe\">\n",
       "  <thead>\n",
       "    <tr style=\"text-align: right;\">\n",
       "      <th></th>\n",
       "      <th>Age</th>\n",
       "      <th>Balance (K)</th>\n",
       "      <th>CreditScore</th>\n",
       "      <th>EstimatedSalary (K)</th>\n",
       "      <th>HasCrCard</th>\n",
       "      <th>IsActiveMember</th>\n",
       "      <th>NumOfProducts</th>\n",
       "      <th>Tenure</th>\n",
       "      <th>Gender_Male</th>\n",
       "      <th>Geography_Germany</th>\n",
       "      <th>Geography_Spain</th>\n",
       "    </tr>\n",
       "  </thead>\n",
       "  <tbody>\n",
       "    <tr>\n",
       "      <th>4256</th>\n",
       "      <td>3.516577</td>\n",
       "      <td>0.925750</td>\n",
       "      <td>-0.556600</td>\n",
       "      <td>-1.505216</td>\n",
       "      <td>1.0</td>\n",
       "      <td>1.0</td>\n",
       "      <td>-0.914333</td>\n",
       "      <td>1.380964</td>\n",
       "      <td>0.0</td>\n",
       "      <td>0.0</td>\n",
       "      <td>1.0</td>\n",
       "    </tr>\n",
       "    <tr>\n",
       "      <th>9151</th>\n",
       "      <td>0.956282</td>\n",
       "      <td>-1.219862</td>\n",
       "      <td>-0.370472</td>\n",
       "      <td>1.614655</td>\n",
       "      <td>1.0</td>\n",
       "      <td>0.0</td>\n",
       "      <td>0.797901</td>\n",
       "      <td>-1.376312</td>\n",
       "      <td>1.0</td>\n",
       "      <td>0.0</td>\n",
       "      <td>0.0</td>\n",
       "    </tr>\n",
       "    <tr>\n",
       "      <th>696</th>\n",
       "      <td>2.189016</td>\n",
       "      <td>-0.194773</td>\n",
       "      <td>-2.118010</td>\n",
       "      <td>-0.405078</td>\n",
       "      <td>1.0</td>\n",
       "      <td>1.0</td>\n",
       "      <td>-0.914333</td>\n",
       "      <td>-1.376312</td>\n",
       "      <td>1.0</td>\n",
       "      <td>0.0</td>\n",
       "      <td>1.0</td>\n",
       "    </tr>\n",
       "    <tr>\n",
       "      <th>4898</th>\n",
       "      <td>0.102850</td>\n",
       "      <td>-1.219862</td>\n",
       "      <td>-1.094304</td>\n",
       "      <td>1.067959</td>\n",
       "      <td>0.0</td>\n",
       "      <td>1.0</td>\n",
       "      <td>-0.914333</td>\n",
       "      <td>0.691645</td>\n",
       "      <td>0.0</td>\n",
       "      <td>0.0</td>\n",
       "      <td>0.0</td>\n",
       "    </tr>\n",
       "    <tr>\n",
       "      <th>6427</th>\n",
       "      <td>-0.181627</td>\n",
       "      <td>-1.219862</td>\n",
       "      <td>0.994469</td>\n",
       "      <td>0.756245</td>\n",
       "      <td>1.0</td>\n",
       "      <td>0.0</td>\n",
       "      <td>0.797901</td>\n",
       "      <td>-1.031652</td>\n",
       "      <td>1.0</td>\n",
       "      <td>0.0</td>\n",
       "      <td>0.0</td>\n",
       "    </tr>\n",
       "  </tbody>\n",
       "</table>\n",
       "</div>"
      ],
      "text/plain": [
       "           Age  Balance (K)  CreditScore  EstimatedSalary (K)  HasCrCard  \\\n",
       "4256  3.516577     0.925750    -0.556600            -1.505216        1.0   \n",
       "9151  0.956282    -1.219862    -0.370472             1.614655        1.0   \n",
       "696   2.189016    -0.194773    -2.118010            -0.405078        1.0   \n",
       "4898  0.102850    -1.219862    -1.094304             1.067959        0.0   \n",
       "6427 -0.181627    -1.219862     0.994469             0.756245        1.0   \n",
       "\n",
       "      IsActiveMember  NumOfProducts    Tenure  Gender_Male  Geography_Germany  \\\n",
       "4256             1.0      -0.914333  1.380964          0.0                0.0   \n",
       "9151             0.0       0.797901 -1.376312          1.0                0.0   \n",
       "696              1.0      -0.914333 -1.376312          1.0                0.0   \n",
       "4898             1.0      -0.914333  0.691645          0.0                0.0   \n",
       "6427             0.0       0.797901 -1.031652          1.0                0.0   \n",
       "\n",
       "      Geography_Spain  \n",
       "4256              1.0  \n",
       "9151              0.0  \n",
       "696               1.0  \n",
       "4898              0.0  \n",
       "6427              0.0  "
      ]
     },
     "execution_count": 29,
     "metadata": {},
     "output_type": "execute_result"
    }
   ],
   "source": [
    "data['x_train'].head()"
   ]
  },
  {
   "cell_type": "code",
   "execution_count": 30,
   "metadata": {
    "colab": {
     "base_uri": "https://localhost:8080/",
     "height": 174
    },
    "executionInfo": {
     "elapsed": 62,
     "status": "ok",
     "timestamp": 1740334816425,
     "user": {
      "displayName": "Azin",
      "userId": "03052143291732337723"
     },
     "user_tz": 300
    },
    "id": "yktCt3XH8o6a",
    "outputId": "b1f5ae80-916f-4e66-99b3-46b4ed6ea24b"
   },
   "outputs": [
    {
     "data": {
      "text/html": [
       "<div>\n",
       "<style scoped>\n",
       "    .dataframe tbody tr th:only-of-type {\n",
       "        vertical-align: middle;\n",
       "    }\n",
       "\n",
       "    .dataframe tbody tr th {\n",
       "        vertical-align: top;\n",
       "    }\n",
       "\n",
       "    .dataframe thead th {\n",
       "        text-align: right;\n",
       "    }\n",
       "</style>\n",
       "<table border=\"1\" class=\"dataframe\">\n",
       "  <thead>\n",
       "    <tr style=\"text-align: right;\">\n",
       "      <th></th>\n",
       "      <th>Rows</th>\n",
       "      <th>Columns</th>\n",
       "      <th>Proportion %</th>\n",
       "      <th>Class Proportions %</th>\n",
       "    </tr>\n",
       "    <tr>\n",
       "      <th>Original (with dummy variables)</th>\n",
       "      <th></th>\n",
       "      <th></th>\n",
       "      <th></th>\n",
       "      <th></th>\n",
       "    </tr>\n",
       "  </thead>\n",
       "  <tbody>\n",
       "    <tr>\n",
       "      <th>X Train</th>\n",
       "      <td>8,000</td>\n",
       "      <td>11</td>\n",
       "      <td>80</td>\n",
       "      <td>{0: 79.62, 1: 20.38}</td>\n",
       "    </tr>\n",
       "    <tr>\n",
       "      <th>X Validation</th>\n",
       "      <td>1,000</td>\n",
       "      <td>11</td>\n",
       "      <td>10</td>\n",
       "      <td>{0: 79.7, 1: 20.3}</td>\n",
       "    </tr>\n",
       "    <tr>\n",
       "      <th>X Test</th>\n",
       "      <td>1,000</td>\n",
       "      <td>11</td>\n",
       "      <td>10</td>\n",
       "      <td>{0: 79.6, 1: 20.4}</td>\n",
       "    </tr>\n",
       "  </tbody>\n",
       "</table>\n",
       "</div>"
      ],
      "text/plain": [
       "                                  Rows  Columns  Proportion %  \\\n",
       "Original (with dummy variables)                                 \n",
       "X Train                          8,000       11            80   \n",
       "X Validation                     1,000       11            10   \n",
       "X Test                           1,000       11            10   \n",
       "\n",
       "                                  Class Proportions %  \n",
       "Original (with dummy variables)                        \n",
       "X Train                          {0: 79.62, 1: 20.38}  \n",
       "X Validation                       {0: 79.7, 1: 20.3}  \n",
       "X Test                             {0: 79.6, 1: 20.4}  "
      ]
     },
     "metadata": {},
     "output_type": "display_data"
    }
   ],
   "source": [
    "print_data_shapes(data, name='Original (with dummy variables)')"
   ]
  },
  {
   "cell_type": "code",
   "execution_count": 31,
   "metadata": {
    "executionInfo": {
     "elapsed": 72,
     "status": "ok",
     "timestamp": 1740334816496,
     "user": {
      "displayName": "Azin",
      "userId": "03052143291732337723"
     },
     "user_tz": 300
    },
    "id": "tp54qTRPgwIc"
   },
   "outputs": [],
   "source": [
    "data_over = data.copy()\n",
    "data_under = data.copy()"
   ]
  },
  {
   "cell_type": "code",
   "execution_count": 32,
   "metadata": {
    "colab": {
     "base_uri": "https://localhost:8080/",
     "height": 427
    },
    "executionInfo": {
     "elapsed": 457,
     "status": "ok",
     "timestamp": 1740334816954,
     "user": {
      "displayName": "Azin",
      "userId": "03052143291732337723"
     },
     "user_tz": 300
    },
    "id": "i3RWa0CAggg_",
    "outputId": "ebb7686e-2e50-4c64-e047-98dba28e5350"
   },
   "outputs": [
    {
     "data": {
      "text/html": [
       "<div>\n",
       "<style scoped>\n",
       "    .dataframe tbody tr th:only-of-type {\n",
       "        vertical-align: middle;\n",
       "    }\n",
       "\n",
       "    .dataframe tbody tr th {\n",
       "        vertical-align: top;\n",
       "    }\n",
       "\n",
       "    .dataframe thead th {\n",
       "        text-align: right;\n",
       "    }\n",
       "</style>\n",
       "<table border=\"1\" class=\"dataframe\">\n",
       "  <thead>\n",
       "    <tr style=\"text-align: right;\">\n",
       "      <th></th>\n",
       "      <th>Rows</th>\n",
       "      <th>Columns</th>\n",
       "      <th>Proportion %</th>\n",
       "      <th>Class Proportions %</th>\n",
       "    </tr>\n",
       "    <tr>\n",
       "      <th>Original</th>\n",
       "      <th></th>\n",
       "      <th></th>\n",
       "      <th></th>\n",
       "      <th></th>\n",
       "    </tr>\n",
       "  </thead>\n",
       "  <tbody>\n",
       "    <tr>\n",
       "      <th>X Train</th>\n",
       "      <td>8,000</td>\n",
       "      <td>11</td>\n",
       "      <td>80</td>\n",
       "      <td>{0: 79.62, 1: 20.38}</td>\n",
       "    </tr>\n",
       "    <tr>\n",
       "      <th>X Validation</th>\n",
       "      <td>1,000</td>\n",
       "      <td>11</td>\n",
       "      <td>10</td>\n",
       "      <td>{0: 79.7, 1: 20.3}</td>\n",
       "    </tr>\n",
       "    <tr>\n",
       "      <th>X Test</th>\n",
       "      <td>1,000</td>\n",
       "      <td>11</td>\n",
       "      <td>10</td>\n",
       "      <td>{0: 79.6, 1: 20.4}</td>\n",
       "    </tr>\n",
       "  </tbody>\n",
       "</table>\n",
       "</div>"
      ],
      "text/plain": [
       "               Rows  Columns  Proportion %   Class Proportions %\n",
       "Original                                                        \n",
       "X Train       8,000       11            80  {0: 79.62, 1: 20.38}\n",
       "X Validation  1,000       11            10    {0: 79.7, 1: 20.3}\n",
       "X Test        1,000       11            10    {0: 79.6, 1: 20.4}"
      ]
     },
     "metadata": {},
     "output_type": "display_data"
    },
    {
     "data": {
      "text/html": [
       "<div>\n",
       "<style scoped>\n",
       "    .dataframe tbody tr th:only-of-type {\n",
       "        vertical-align: middle;\n",
       "    }\n",
       "\n",
       "    .dataframe tbody tr th {\n",
       "        vertical-align: top;\n",
       "    }\n",
       "\n",
       "    .dataframe thead th {\n",
       "        text-align: right;\n",
       "    }\n",
       "</style>\n",
       "<table border=\"1\" class=\"dataframe\">\n",
       "  <thead>\n",
       "    <tr style=\"text-align: right;\">\n",
       "      <th></th>\n",
       "      <th>Rows</th>\n",
       "      <th>Columns</th>\n",
       "      <th>Class Proportions %</th>\n",
       "    </tr>\n",
       "    <tr>\n",
       "      <th>Under-Sampled</th>\n",
       "      <th></th>\n",
       "      <th></th>\n",
       "      <th></th>\n",
       "    </tr>\n",
       "  </thead>\n",
       "  <tbody>\n",
       "    <tr>\n",
       "      <th>X Train</th>\n",
       "      <td>3,260</td>\n",
       "      <td>11</td>\n",
       "      <td>{0: 50.0, 1: 50.0}</td>\n",
       "    </tr>\n",
       "    <tr>\n",
       "      <th>X Validation</th>\n",
       "      <td>406</td>\n",
       "      <td>11</td>\n",
       "      <td>{0: 50.0, 1: 50.0}</td>\n",
       "    </tr>\n",
       "  </tbody>\n",
       "</table>\n",
       "</div>"
      ],
      "text/plain": [
       "                Rows  Columns Class Proportions %\n",
       "Under-Sampled                                    \n",
       "X Train        3,260       11  {0: 50.0, 1: 50.0}\n",
       "X Validation     406       11  {0: 50.0, 1: 50.0}"
      ]
     },
     "metadata": {},
     "output_type": "display_data"
    },
    {
     "data": {
      "text/html": [
       "<div>\n",
       "<style scoped>\n",
       "    .dataframe tbody tr th:only-of-type {\n",
       "        vertical-align: middle;\n",
       "    }\n",
       "\n",
       "    .dataframe tbody tr th {\n",
       "        vertical-align: top;\n",
       "    }\n",
       "\n",
       "    .dataframe thead th {\n",
       "        text-align: right;\n",
       "    }\n",
       "</style>\n",
       "<table border=\"1\" class=\"dataframe\">\n",
       "  <thead>\n",
       "    <tr style=\"text-align: right;\">\n",
       "      <th></th>\n",
       "      <th>Rows</th>\n",
       "      <th>Columns</th>\n",
       "      <th>Class Proportions %</th>\n",
       "    </tr>\n",
       "    <tr>\n",
       "      <th>Over-Sampled</th>\n",
       "      <th></th>\n",
       "      <th></th>\n",
       "      <th></th>\n",
       "    </tr>\n",
       "  </thead>\n",
       "  <tbody>\n",
       "    <tr>\n",
       "      <th>X Train</th>\n",
       "      <td>12,740</td>\n",
       "      <td>11</td>\n",
       "      <td>{0: 50.0, 1: 50.0}</td>\n",
       "    </tr>\n",
       "    <tr>\n",
       "      <th>X Validation</th>\n",
       "      <td>1,594</td>\n",
       "      <td>11</td>\n",
       "      <td>{0: 50.0, 1: 50.0}</td>\n",
       "    </tr>\n",
       "  </tbody>\n",
       "</table>\n",
       "</div>"
      ],
      "text/plain": [
       "                Rows  Columns Class Proportions %\n",
       "Over-Sampled                                     \n",
       "X Train       12,740       11  {0: 50.0, 1: 50.0}\n",
       "X Validation   1,594       11  {0: 50.0, 1: 50.0}"
      ]
     },
     "metadata": {},
     "output_type": "display_data"
    }
   ],
   "source": [
    "# Synthetic Minority Over Sampling Technique\n",
    "# sm = SMOTE(sampling_strategy=1, k_neighbors=5, random_state=1)\n",
    "sm = SMOTE(random_state=42)\n",
    "rus = RandomUnderSampler(random_state=1)\n",
    "\n",
    "for n in ['train', 'validation']:\n",
    "  data_over[f'x_{n}'], data_over[f'y_{n}'] = sm.fit_resample(data[f'x_{n}'], data[f'y_{n}'])\n",
    "  data_under[f'x_{n}'], data_under[f'y_{n}'] = rus.fit_resample(data[f'x_{n}'], data[f'y_{n}'])\n",
    "\n",
    "# print('Original Data\\n'+'-'*20)\n",
    "# for k, v in data.items():\n",
    "#   print(f'{k}: {v.shape}')\n",
    "\n",
    "# print('\\nOver-Sampled Data\\n'+'-'*20)\n",
    "# for k, v in data_over.items():\n",
    "#   print(f'{k}: {v.shape}')\n",
    "\n",
    "# print('\\nUnder-Sampled Data\\n'+'-'*20)\n",
    "# for k, v in data_under.items():\n",
    "#   print(f'{k}: {v.shape}')\n",
    "\n",
    "print_data_shapes(data, name='Original')\n",
    "print_data_shapes(data_under, name='Under-Sampled')\n",
    "print_data_shapes(data_over, name='Over-Sampled')"
   ]
  },
  {
   "cell_type": "code",
   "execution_count": 33,
   "metadata": {
    "executionInfo": {
     "elapsed": 4,
     "status": "ok",
     "timestamp": 1740334816955,
     "user": {
      "displayName": "Azin",
      "userId": "03052143291732337723"
     },
     "user_tz": 300
    },
    "id": "v7mMY6KlfpZh"
   },
   "outputs": [],
   "source": [
    "x_train = data['x_train']\n",
    "x_validation = data['x_validation']\n",
    "x_test = data['x_test']"
   ]
  },
  {
   "cell_type": "code",
   "execution_count": 34,
   "metadata": {
    "executionInfo": {
     "elapsed": 147,
     "status": "ok",
     "timestamp": 1740334817104,
     "user": {
      "displayName": "Azin",
      "userId": "03052143291732337723"
     },
     "user_tz": 300
    },
    "id": "opq1jzpQlUyA"
   },
   "outputs": [],
   "source": [
    "def plot(history, name, name1 = 'loss', model_name=''):\n",
    "    \"\"\"\n",
    "    Function to plot loss/accuracy\n",
    "\n",
    "    history: an object which stores the metrics and losses.\n",
    "    name: can be one of Loss or Accuracy\n",
    "    \"\"\"\n",
    "    fig, axes = plt.subplots(2, 1, sharex=True, figsize=(4,8)) #Creating a subplot with figure and axes.\n",
    "    # fig.suptitle(f'Model {model_name}')\n",
    "    axes[0].plot(history.history[name1], label='Train') #Plotting the train accuracy or train loss\n",
    "    axes[0].plot(history.history['val_'+name1], label='Validation') #Plotting the validation accuracy or validation loss\n",
    "    title = name1.replace('_', ' ').title()\n",
    "    axes[0].set_title(f'Model {model_name}')\n",
    "    axes[0].set_ylabel(name1.title())\n",
    "    axes[0].legend(frameon=False)\n",
    "    axes[0].grid(True)\n",
    "    sns.despine(ax=axes[0], top=True, right=True)\n",
    "\n",
    "    axes[1].plot(history.history[name], label='Train') #Plotting the train accuracy or train loss\n",
    "    axes[1].plot(history.history['val_'+name], label='Validation') #Plotting the validation accuracy or validation loss\n",
    "    title = name.replace('_', ' ').title()\n",
    "    # axes[1].set_title(title)\n",
    "    axes[1].set_ylabel(name.title())\n",
    "    axes[1].set_xlabel('Epoch')\n",
    "    # axes[1].legend()\n",
    "    axes[1].grid(True)\n",
    "    sns.despine(ax=axes[0], top=True, right=True)\n",
    "    axes[1].legend().remove()\n",
    "    plt.tight_layout()\n",
    "\n",
    "    plt.savefig(f\"{image_dir}/model_{model_name}_{name1}_{name}.png\", bbox_inches='tight');\n",
    "\n",
    "\n",
    "    # plt.title(f'Model {model_name} - ' + title) #Defining the title of the plot.\n",
    "    # plt.ylabel(title) #Capitalizing the first letter.\n",
    "    # plt.xlabel('Epoch') #Defining the label for the x-axis.\n",
    "    # #Defining the legend, loc controls the position of the legend.\n",
    "    # fig.legend(['Train', 'Validation'], loc=\"outside right\")\n",
    "    # sns.despine(top=True, right=True)\n",
    "\n",
    "\n",
    "\n",
    "# function to compute adjusted R-squared\n",
    "def adj_r2_score(predictors, targets, predictions):\n",
    "    r2 = r2_score(targets, predictions)\n",
    "    n = predictors.shape[0]\n",
    "    k = predictors.shape[1]\n",
    "    return 1 - ((1 - r2) * (n - 1) / (n - k - 1))\n",
    "\n",
    "\n",
    "# function to compute MAPE\n",
    "def mape_score(targets, predictions):\n",
    "    return np.mean(np.abs(targets - predictions) / targets) * 100\n",
    "\n",
    "\n",
    "def model_performance(model,predictors,target):\n",
    "  if is_classification:\n",
    "    return model_performance_classification(model,predictors,target)\n",
    "  else:\n",
    "    return model_performance_regression(model,predictors,target)\n",
    "\n",
    "def model_performance_classification(model, predictors, target):\n",
    "    \"\"\"\n",
    "    Function to compute different metrics to check classification model performance\n",
    "\n",
    "    model: classifier\n",
    "    predictors: independent variables\n",
    "    target: dependent variable\n",
    "    \"\"\"\n",
    "\n",
    "    # predicting using the independent variables\n",
    "    pred = np.round(model.predict(predictors))\n",
    "    if not isinstance(pred, pd.Series):\n",
    "      if pred.shape[1] > 1:\n",
    "        pred = pd.Series(np.argmax(pred, axis=1), index = predictors.index)\n",
    "    if not isinstance(target, pd.Series):\n",
    "      if target.shape[1] > 1:\n",
    "        target = pd.Series(np.argmax(target, axis=1), index = predictors.index)\n",
    "\n",
    "    acc = accuracy_score(target, pred)  # to compute Accuracy\n",
    "    recall = recall_score(target, pred, average='macro')  # to compute Recall\n",
    "    precision = precision_score(target, pred, average='macro')  # to compute Precision\n",
    "    f1 = f1_score(target, pred, average='macro')  # to compute F1-score\n",
    "\n",
    "    info = {\n",
    "        \"Accuracy\": round(acc, 3),\n",
    "        \"Recall\": round(recall, 3),\n",
    "        \"Precision\": round(precision, 3),\n",
    "        \"F1\": round(f1, 3),\n",
    "    }\n",
    "    return info, pred\n",
    "\n",
    "# function to compute different metrics to check performance of a neural network model\n",
    "def model_performance_regression(model,predictors,target):\n",
    "    \"\"\"\n",
    "    Function to compute different metrics to check regression model performance\n",
    "\n",
    "    model: regressor\n",
    "    predictors: independent variables\n",
    "    target: dependent variable\n",
    "    \"\"\"\n",
    "    # predicting using the independent variables\n",
    "    pred = model.predict(predictors).reshape(-1)\n",
    "\n",
    "    r2 = r2_score(target, pred)  # to compute R-squared\n",
    "    adjr2 = adj_r2_score(predictors, target, pred)  # to compute adjusted R-squared\n",
    "    rmse = np.sqrt(mean_squared_error(target, pred))  # to compute RMSE\n",
    "    mae = mean_absolute_error(target, pred)  # to compute MAE\n",
    "    mape = mape_score(target, pred)  # to compute MAPE\n",
    "\n",
    "    # creating a dataframe of metrics\n",
    "    info =  {\n",
    "            \"RMSE\": [rmse],\n",
    "            \"MAE\": [mae],\n",
    "            \"R-squared\": [r2],\n",
    "            \"Adj. R-squared\": [adjr2],\n",
    "            \"MAPE\": [mape]}\n",
    "\n",
    "\n",
    "    return info, pred\n",
    "\n",
    "\n",
    "def get_metrics(chosen_metric):\n",
    "  if chosen_metric =='r2_score':\n",
    "    return [tf.keras.metrics.R2Score(name=chosen_metric)]\n",
    "  elif chosen_metric =='accuracy':\n",
    "    return [tf.keras.metrics.Accuracy(name=chosen_metric)]\n",
    "\n",
    "\n",
    "\n",
    "\n",
    "def make_train_model(data,\n",
    "                     layers = [],\n",
    "                     name = '',\n",
    "                     loss=loss,\n",
    "                     optimizer=keras.optimizers.SGD(),\n",
    "                     batch_size=32,\n",
    "                     epochs=10,\n",
    "                     verbose=0,\n",
    "                     metrics=get_metrics(chosen_metric),\n",
    "                     sampling = 'Original',\n",
    "                     ):\n",
    "\n",
    "  learning_rate = '-'\n",
    "  x_train = data['x_train']\n",
    "  y_train = data['y_train']\n",
    "  x_validation = data['x_validation']\n",
    "  y_validation = data['y_validation']\n",
    "\n",
    "  # clears the current Keras session, resetting all layers and models previously created, freeing up memory and resources.\n",
    "  clean_reset_seed(random_state)\n",
    "  #Initializing the neural network\n",
    "  model = Sequential()\n",
    "  for layer in layers:\n",
    "    model.add(layer)\n",
    "  model.summary()\n",
    "\n",
    "  if isinstance(optimizer, str):\n",
    "    optimizer_name = optimizer\n",
    "  else:\n",
    "    optimizer_name = optimizer.__class__.__name__\n",
    "\n",
    "\n",
    "  model.compile(loss=loss,\n",
    "                optimizer=optimizer,\n",
    "                metrics=metrics,\n",
    "                run_eagerly=True)\n",
    "\n",
    "  # print(batch_size, model.layers[0].input_shape)\n",
    "\n",
    "  initializer = model.layers[0].kernel_initializer.__class__.__name__\n",
    "\n",
    "  start = time.time()\n",
    "  history = model.fit(x_train, y_train,\n",
    "                      validation_data=(x_validation,y_validation),\n",
    "                      batch_size=batch_size,\n",
    "                      epochs=epochs,\n",
    "                      verbose=verbose\n",
    "                      )\n",
    "  end=time.time()\n",
    "  elapsed_time = end - start\n",
    "  print(f\"Time taken in seconds {elapsed_time:.2f}\")\n",
    "\n",
    "  if optimizer_name == 'SGD':\n",
    "    if batch_size > 1000:\n",
    "      optimizer_name = 'GD'\n",
    "\n",
    "\n",
    "  optimizer_params = model.optimizer.get_config()\n",
    "  learning_rate = optimizer_params.get('learning_rate', '-')\n",
    "  momentum = str(optimizer_params.get('momentum', '-'))\n",
    "  # if not 'momentum' in optimizer_params.keys():\n",
    "  #   momentum = optimizer_params.get('ema_momentum', '-')\n",
    "  optimizer_name = optimizer_params.get('name', optimizer_name)\n",
    "\n",
    "  info = {k: '-' for k in columns}\n",
    "  hidden_layers = []\n",
    "  dense_layers = [layer for layer in layers if isinstance(layer, Dense)]\n",
    "  dropout_layers = [l for l in model.layers if isinstance(l, Dropout)]\n",
    "  dropout_configs = [l.get_config() for l in dropout_layers]\n",
    "  regularization = [f\"Dropout({c['rate']})\" for c in dropout_configs]\n",
    "  if len(layers)>1:\n",
    "    hidden_layers = dense_layers[:-1]\n",
    "  info.update({\n",
    "      \"# Hidden Layers\": len(hidden_layers)\n",
    "      ,\"# Dropout Layers\": len(dropout_layers)\n",
    "      ,\"# Neurons\": list(map(lambda l: l.units, dense_layers))\n",
    "      ,\"Activation Function\": list(map(lambda l: l.activation.__name__, dense_layers))\n",
    "      ,\"# Neurons (Hidden)\": list(map(lambda l: l.units, hidden_layers))\n",
    "      ,\"Activation Function (Hidden)\": list(map(lambda l: l.activation.__name__, hidden_layers))\n",
    "      ,'# Epochs': epochs\n",
    "      ,'Batch Size': batch_size\n",
    "      ,'Optimizer': optimizer_name\n",
    "      ,'Learning Rate': learning_rate\n",
    "      ,'Momentum': momentum\n",
    "      ,'Weight Initializer': initializer\n",
    "      ,'Regularization': regularization\n",
    "      ,'Sampling': sampling\n",
    "      ,'Time (min)': round(elapsed_time/60, 2)\n",
    "      ,'Train Loss': history.history[\"loss\"][-1]\n",
    "      ,'Validation Loss': history.history[\"val_loss\"][-1]\n",
    "      ,f'Train {chosen_metric.title()}': history.history[chosen_metric][-1]\n",
    "      ,f'Validation {chosen_metric.title()}': history.history[f\"val_{chosen_metric}\"][-1]\n",
    "  })\n",
    "  info.update({f'|Train - Validation| {chosen_metric.title()}': abs(info[f'Train {chosen_metric.title()}']-info[f'Validation {chosen_metric.title()}'])})\n",
    "\n",
    "  plot(history, chosen_metric, model_name=name)\n",
    "  clean_reset_seed(random_state)\n",
    "  return info, model\n",
    "\n",
    "\n",
    "def confusion_matrix_sklearn(model, predictors, target, figsize=(6, 4),\n",
    "                             rotation_x = 0, rotation_y=0, cmap='Blues', name='',\n",
    "                             partition='', label_map = {}):\n",
    "    \"\"\"\n",
    "    To plot the confusion_matrix with percentages\n",
    "\n",
    "    model: classifier\n",
    "    predictors: independent variables\n",
    "    target: dependent variable\n",
    "    \"\"\"\n",
    "    pred = np.round(model.predict(predictors))\n",
    "\n",
    "    if not isinstance(pred, pd.Series):\n",
    "      if pred.shape[1] > 1:\n",
    "        pred = pd.Series(np.argmax(pred, axis=1), index = predictors.index)\n",
    "    if not isinstance(target, pd.Series):\n",
    "      if target.shape[1] > 1:\n",
    "        target = pd.Series(np.argmax(target, axis=1), index = predictors.index)\n",
    "\n",
    "    pred = pd.Series(pred.reshape(-1), index = predictors.index)\n",
    "\n",
    "    cm = confusion_matrix(target, pred)\n",
    "    cm_df = pd.DataFrame(cm)\n",
    "\n",
    "    num_classes = target.nunique()\n",
    "\n",
    "    labels = np.asarray(\n",
    "        [\n",
    "            [f\"{item:,}\"+ f\"\\n\\n{item / cm.flatten().sum():.0%}\"]\n",
    "            for item in cm.flatten()\n",
    "        ]\n",
    "    ).reshape(num_classes, num_classes)\n",
    "\n",
    "    plt.figure(figsize=figsize)\n",
    "    ax = sns.heatmap(cm_df, annot=labels, fmt=\"\", square = True, cmap=cmap,\n",
    "                     linewidth=2)\n",
    "\n",
    "    if label_map:\n",
    "      labs = label_map.values()\n",
    "      ax.set_xticklabels(labs, rotation=rotation_x, ha='right')\n",
    "      ax.set_yticklabels(labs, rotation=rotation_y)\n",
    "    else:\n",
    "      ax.set_xticklabels(ax.get_xticklabels(), rotation=rotation_x, ha='right')\n",
    "      ax.set_yticklabels(ax.get_yticklabels(), rotation=rotation_y)\n",
    "\n",
    "\n",
    "    name = f'Confusion Matrix\\n{name}\\n{partition} Data'\n",
    "    plt.title(name)\n",
    "    plt.ylabel(\"True Label\")\n",
    "    plt.xlabel(\"Predicted Label\")\n",
    "    plt.tick_params(left=False, bottom=False)\n",
    "    name_modified = name.replace('\\n', '_').replace(' ', '_')\n",
    "    if label_map:\n",
    "      name_modified += '_map'\n",
    "\n",
    "    plt.savefig(f\"{image_dir}/{name_modified}.png\", bbox_inches='tight');\n",
    "    plt.show();\n"
   ]
  },
  {
   "cell_type": "code",
   "execution_count": 35,
   "metadata": {
    "executionInfo": {
     "elapsed": 4,
     "status": "ok",
     "timestamp": 1740334817110,
     "user": {
      "displayName": "Azin",
      "userId": "03052143291732337723"
     },
     "user_tz": 300
    },
    "id": "BOiUtXjRlhgv"
   },
   "outputs": [],
   "source": [
    "columns = [\n",
    "          \"# Neurons\"\n",
    "          ,\"Activation Function\"\n",
    "          ,\"# Hidden Layers\"\n",
    "          ,\"# Dropout Layers\"\n",
    "          ,\"# Neurons (Hidden)\"\n",
    "          ,\"Activation Function (Hidden)\"\n",
    "          ,\"# Epochs\"\n",
    "          ,\"Batch Size\"\n",
    "          ,\"Optimizer\"\n",
    "          ,\"Learning Rate\"\n",
    "          ,\"Momentum\"\n",
    "          ,\"Weight Initializer\"\n",
    "          ,\"Regularization\"\n",
    "          ,\"Time (min)\"\n",
    "          ,\"Train Loss\"\n",
    "          ,\"Validation Loss\"\n",
    "          ,\"Sampling\"\n",
    "          ,f'Train {chosen_metric.title()}'\n",
    "          ,f'Validation {chosen_metric.title()}'\n",
    "          ,f'|Train - Validation| {chosen_metric.title()}']\n",
    "\n",
    "results = pd.DataFrame(columns=columns)\n",
    "#Defining the list of metrics to be used for all the models.\n",
    "metrics = [eval(f\"tf.keras.metrics.{chosen_metric.title()}(name='{chosen_metric}')\")]\n",
    "ind = 0\n",
    "models = {}"
   ]
  },
  {
   "cell_type": "code",
   "execution_count": 36,
   "metadata": {
    "executionInfo": {
     "elapsed": 5,
     "status": "ok",
     "timestamp": 1740334817111,
     "user": {
      "displayName": "Azin",
      "userId": "03052143291732337723"
     },
     "user_tz": 300
    },
    "id": "6sL-vuJpyB2Z"
   },
   "outputs": [],
   "source": [
    "def get_out_neuron(num_classes):\n",
    "  if is_classification:\n",
    "    if num_classes > 2:\n",
    "      return num_classes\n",
    "  return 1\n",
    "\n",
    "out_neuron = get_out_neuron(num_classes)"
   ]
  },
  {
   "cell_type": "code",
   "execution_count": 37,
   "metadata": {
    "colab": {
     "base_uri": "https://localhost:8080/"
    },
    "executionInfo": {
     "elapsed": 4,
     "status": "ok",
     "timestamp": 1740334817111,
     "user": {
      "displayName": "Azin",
      "userId": "03052143291732337723"
     },
     "user_tz": 300
    },
    "id": "VS8s_sOWyrwC",
    "outputId": "65f49b34-5fd2-4e95-aa34-6669f7a10c82"
   },
   "outputs": [
    {
     "data": {
      "text/plain": [
       "1"
      ]
     },
     "execution_count": 37,
     "metadata": {},
     "output_type": "execute_result"
    }
   ],
   "source": [
    "out_neuron"
   ]
  },
  {
   "cell_type": "code",
   "execution_count": 38,
   "metadata": {
    "executionInfo": {
     "elapsed": 1,
     "status": "ok",
     "timestamp": 1740334817471,
     "user": {
      "displayName": "Azin",
      "userId": "03052143291732337723"
     },
     "user_tz": 300
    },
    "id": "LznZ2h55TNF6"
   },
   "outputs": [],
   "source": [
    "#results['Momentum'] = '-'"
   ]
  },
  {
   "cell_type": "code",
   "execution_count": 39,
   "metadata": {
    "executionInfo": {
     "elapsed": 1,
     "status": "ok",
     "timestamp": 1740334817473,
     "user": {
      "displayName": "Azin",
      "userId": "03052143291732337723"
     },
     "user_tz": 300
    },
    "id": "NMt4Q7mOCovq"
   },
   "outputs": [],
   "source": [
    "def get_momentum(optimizer):\n",
    "  optimizer_params = optimizer.get_config()\n",
    "  momentum = str(optimizer_params.get('momentum', '-'))\n",
    "  return momentum"
   ]
  },
  {
   "cell_type": "code",
   "execution_count": 40,
   "metadata": {
    "executionInfo": {
     "elapsed": 23,
     "status": "ok",
     "timestamp": 1740334817520,
     "user": {
      "displayName": "Azin",
      "userId": "03052143291732337723"
     },
     "user_tz": 300
    },
    "id": "TxYT3pRuZf33"
   },
   "outputs": [],
   "source": [
    "def make_model_save_results(results, models, ind, data,\n",
    "                     layers = [],\n",
    "                     name = '',\n",
    "                     loss=loss,\n",
    "                     optimizer=keras.optimizers.SGD(),\n",
    "                     batch_size=32,\n",
    "                     epochs=10,\n",
    "                     verbose=0,\n",
    "                     metrics=get_metrics(chosen_metric),\n",
    "                     sampling = 'Original'):\n",
    "\n",
    "  model, is_saved = get_saved_model(ind)\n",
    "\n",
    "  if not is_saved:\n",
    "\n",
    "    info, model = make_train_model(data,\n",
    "                        layers = layers,\n",
    "                        batch_size = batch_size,\n",
    "                        name = ind,\n",
    "                        sampling = sampling,\n",
    "                        metrics = metrics,\n",
    "                        optimizer=optimizer,\n",
    "                        epochs=epochs)\n",
    "    results.loc[ind] = info\n",
    "    model.save(f'{model_dir}/model{ind}.keras')\n",
    "    display(results)\n",
    "    results.to_csv(f'{model_dir}/results.csv', index=False)\n",
    "  models[ind] = model\n",
    "  return results, models"
   ]
  },
  {
   "cell_type": "code",
   "execution_count": 41,
   "metadata": {
    "executionInfo": {
     "elapsed": 1,
     "status": "ok",
     "timestamp": 1740334817521,
     "user": {
      "displayName": "Azin",
      "userId": "03052143291732337723"
     },
     "user_tz": 300
    },
    "id": "OObK_eg_lwZo"
   },
   "outputs": [],
   "source": [
    "models = {}\n",
    "ind = 0"
   ]
  },
  {
   "cell_type": "code",
   "execution_count": 42,
   "metadata": {
    "colab": {
     "base_uri": "https://localhost:8080/",
     "height": 852
    },
    "executionInfo": {
     "elapsed": 16,
     "status": "ok",
     "timestamp": 1740334817538,
     "user": {
      "displayName": "Azin",
      "userId": "03052143291732337723"
     },
     "user_tz": 300
    },
    "id": "oOq_H3N6l6pb",
    "outputId": "7cc63bc8-e112-442a-a400-6d7c2c5cfec9"
   },
   "outputs": [
    {
     "data": {
      "text/html": [
       "<div>\n",
       "<style scoped>\n",
       "    .dataframe tbody tr th:only-of-type {\n",
       "        vertical-align: middle;\n",
       "    }\n",
       "\n",
       "    .dataframe tbody tr th {\n",
       "        vertical-align: top;\n",
       "    }\n",
       "\n",
       "    .dataframe thead th {\n",
       "        text-align: right;\n",
       "    }\n",
       "</style>\n",
       "<table border=\"1\" class=\"dataframe\">\n",
       "  <thead>\n",
       "    <tr style=\"text-align: right;\">\n",
       "      <th></th>\n",
       "      <th># Neurons</th>\n",
       "      <th>Activation Function</th>\n",
       "      <th># Hidden Layers</th>\n",
       "      <th># Dropout Layers</th>\n",
       "      <th># Neurons (Hidden)</th>\n",
       "      <th>Activation Function (Hidden)</th>\n",
       "      <th># Epochs</th>\n",
       "      <th>Batch Size</th>\n",
       "      <th>Optimizer</th>\n",
       "      <th>Learning Rate</th>\n",
       "      <th>Momentum</th>\n",
       "      <th>Weight Initializer</th>\n",
       "      <th>Regularization</th>\n",
       "      <th>Time (min)</th>\n",
       "      <th>Train Loss</th>\n",
       "      <th>Validation Loss</th>\n",
       "      <th>Sampling</th>\n",
       "      <th>Train Recall</th>\n",
       "      <th>Validation Recall</th>\n",
       "      <th>|Train - Validation| Recall</th>\n",
       "    </tr>\n",
       "  </thead>\n",
       "  <tbody>\n",
       "  </tbody>\n",
       "</table>\n",
       "</div>"
      ],
      "text/plain": [
       "Empty DataFrame\n",
       "Columns: [# Neurons, Activation Function, # Hidden Layers, # Dropout Layers, # Neurons (Hidden), Activation Function (Hidden), # Epochs, Batch Size, Optimizer, Learning Rate, Momentum, Weight Initializer, Regularization, Time (min), Train Loss, Validation Loss, Sampling, Train Recall, Validation Recall, |Train - Validation| Recall]\n",
       "Index: []"
      ]
     },
     "execution_count": 42,
     "metadata": {},
     "output_type": "execute_result"
    }
   ],
   "source": [
    "results"
   ]
  },
  {
   "cell_type": "code",
   "execution_count": null,
   "metadata": {
    "executionInfo": {
     "elapsed": 1097,
     "status": "ok",
     "timestamp": 1740334818635,
     "user": {
      "displayName": "Azin",
      "userId": "03052143291732337723"
     },
     "user_tz": 300
    },
    "id": "U3EozPa8l3Ae"
   },
   "outputs": [
    {
     "data": {
      "text/html": [
       "<pre style=\"white-space:pre;overflow-x:auto;line-height:normal;font-family:Menlo,'DejaVu Sans Mono',consolas,'Courier New',monospace\"><span style=\"font-weight: bold\">Model: \"sequential\"</span>\n",
       "</pre>\n"
      ],
      "text/plain": [
       "\u001b[1mModel: \"sequential\"\u001b[0m\n"
      ]
     },
     "metadata": {},
     "output_type": "display_data"
    },
    {
     "data": {
      "text/html": [
       "<pre style=\"white-space:pre;overflow-x:auto;line-height:normal;font-family:Menlo,'DejaVu Sans Mono',consolas,'Courier New',monospace\">┏━━━━━━━━━━━━━━━━━━━━━━━━━━━━━━━━━┳━━━━━━━━━━━━━━━━━━━━━━━━┳━━━━━━━━━━━━━━━┓\n",
       "┃<span style=\"font-weight: bold\"> Layer (type)                    </span>┃<span style=\"font-weight: bold\"> Output Shape           </span>┃<span style=\"font-weight: bold\">       Param # </span>┃\n",
       "┡━━━━━━━━━━━━━━━━━━━━━━━━━━━━━━━━━╇━━━━━━━━━━━━━━━━━━━━━━━━╇━━━━━━━━━━━━━━━┩\n",
       "│ dense (<span style=\"color: #0087ff; text-decoration-color: #0087ff\">Dense</span>)                   │ (<span style=\"color: #00d7ff; text-decoration-color: #00d7ff\">None</span>, <span style=\"color: #00af00; text-decoration-color: #00af00\">64</span>)             │           <span style=\"color: #00af00; text-decoration-color: #00af00\">768</span> │\n",
       "├─────────────────────────────────┼────────────────────────┼───────────────┤\n",
       "│ dense_1 (<span style=\"color: #0087ff; text-decoration-color: #0087ff\">Dense</span>)                 │ (<span style=\"color: #00d7ff; text-decoration-color: #00d7ff\">None</span>, <span style=\"color: #00af00; text-decoration-color: #00af00\">32</span>)             │         <span style=\"color: #00af00; text-decoration-color: #00af00\">2,080</span> │\n",
       "├─────────────────────────────────┼────────────────────────┼───────────────┤\n",
       "│ dense_2 (<span style=\"color: #0087ff; text-decoration-color: #0087ff\">Dense</span>)                 │ (<span style=\"color: #00d7ff; text-decoration-color: #00d7ff\">None</span>, <span style=\"color: #00af00; text-decoration-color: #00af00\">1</span>)              │            <span style=\"color: #00af00; text-decoration-color: #00af00\">33</span> │\n",
       "└─────────────────────────────────┴────────────────────────┴───────────────┘\n",
       "</pre>\n"
      ],
      "text/plain": [
       "┏━━━━━━━━━━━━━━━━━━━━━━━━━━━━━━━━━┳━━━━━━━━━━━━━━━━━━━━━━━━┳━━━━━━━━━━━━━━━┓\n",
       "┃\u001b[1m \u001b[0m\u001b[1mLayer (type)                   \u001b[0m\u001b[1m \u001b[0m┃\u001b[1m \u001b[0m\u001b[1mOutput Shape          \u001b[0m\u001b[1m \u001b[0m┃\u001b[1m \u001b[0m\u001b[1m      Param #\u001b[0m\u001b[1m \u001b[0m┃\n",
       "┡━━━━━━━━━━━━━━━━━━━━━━━━━━━━━━━━━╇━━━━━━━━━━━━━━━━━━━━━━━━╇━━━━━━━━━━━━━━━┩\n",
       "│ dense (\u001b[38;5;33mDense\u001b[0m)                   │ (\u001b[38;5;45mNone\u001b[0m, \u001b[38;5;34m64\u001b[0m)             │           \u001b[38;5;34m768\u001b[0m │\n",
       "├─────────────────────────────────┼────────────────────────┼───────────────┤\n",
       "│ dense_1 (\u001b[38;5;33mDense\u001b[0m)                 │ (\u001b[38;5;45mNone\u001b[0m, \u001b[38;5;34m32\u001b[0m)             │         \u001b[38;5;34m2,080\u001b[0m │\n",
       "├─────────────────────────────────┼────────────────────────┼───────────────┤\n",
       "│ dense_2 (\u001b[38;5;33mDense\u001b[0m)                 │ (\u001b[38;5;45mNone\u001b[0m, \u001b[38;5;34m1\u001b[0m)              │            \u001b[38;5;34m33\u001b[0m │\n",
       "└─────────────────────────────────┴────────────────────────┴───────────────┘\n"
      ]
     },
     "metadata": {},
     "output_type": "display_data"
    },
    {
     "data": {
      "text/html": [
       "<pre style=\"white-space:pre;overflow-x:auto;line-height:normal;font-family:Menlo,'DejaVu Sans Mono',consolas,'Courier New',monospace\"><span style=\"font-weight: bold\"> Total params: </span><span style=\"color: #00af00; text-decoration-color: #00af00\">2,881</span> (11.25 KB)\n",
       "</pre>\n"
      ],
      "text/plain": [
       "\u001b[1m Total params: \u001b[0m\u001b[38;5;34m2,881\u001b[0m (11.25 KB)\n"
      ]
     },
     "metadata": {},
     "output_type": "display_data"
    },
    {
     "data": {
      "text/html": [
       "<pre style=\"white-space:pre;overflow-x:auto;line-height:normal;font-family:Menlo,'DejaVu Sans Mono',consolas,'Courier New',monospace\"><span style=\"font-weight: bold\"> Trainable params: </span><span style=\"color: #00af00; text-decoration-color: #00af00\">2,881</span> (11.25 KB)\n",
       "</pre>\n"
      ],
      "text/plain": [
       "\u001b[1m Trainable params: \u001b[0m\u001b[38;5;34m2,881\u001b[0m (11.25 KB)\n"
      ]
     },
     "metadata": {},
     "output_type": "display_data"
    },
    {
     "data": {
      "text/html": [
       "<pre style=\"white-space:pre;overflow-x:auto;line-height:normal;font-family:Menlo,'DejaVu Sans Mono',consolas,'Courier New',monospace\"><span style=\"font-weight: bold\"> Non-trainable params: </span><span style=\"color: #00af00; text-decoration-color: #00af00\">0</span> (0.00 B)\n",
       "</pre>\n"
      ],
      "text/plain": [
       "\u001b[1m Non-trainable params: \u001b[0m\u001b[38;5;34m0\u001b[0m (0.00 B)\n"
      ]
     },
     "metadata": {},
     "output_type": "display_data"
    }
   ],
   "source": [
    "clean_reset_seed(random_state)\n",
    "epochs = 120\n",
    "batch_size = 32\n",
    "layers = [Dense(64, activation='relu',input_dim=x_train.shape[1]),\n",
    "          Dense(32, activation='relu'),\n",
    "          Dense(out_neuron, activation=out_activation)]\n",
    "\n",
    "optimizer = tf.keras.optimizers.SGD(learning_rate=1e-3)\n",
    "metrics = [chosen_metric]\n",
    "\n",
    "results, models = make_model_save_results(results, models, ind, data,\n",
    "                      layers = layers,\n",
    "                      batch_size = batch_size,\n",
    "                      name = ind,\n",
    "                      metrics = metrics,\n",
    "                      optimizer=optimizer,\n",
    "                      epochs=epochs)\n",
    "# results.loc[ind, 'Momentum'] = get_momentum(optimizer)\n",
    "ind +=1"
   ]
  },
  {
   "cell_type": "code",
   "execution_count": null,
   "metadata": {
    "executionInfo": {
     "elapsed": 626,
     "status": "ok",
     "timestamp": 1740334819262,
     "user": {
      "displayName": "Azin",
      "userId": "03052143291732337723"
     },
     "user_tz": 300
    },
    "id": "h8XwXisxeFte"
   },
   "outputs": [],
   "source": [
    "clean_reset_seed(random_state)\n",
    "epochs = 120\n",
    "batch_size = 32\n",
    "layers = [Dense(64, activation='relu',input_dim=x_train.shape[1]),\n",
    "          Dense(32, activation='relu'),\n",
    "          Dense(out_neuron, activation=out_activation)]\n",
    "\n",
    "optimizer = tf.keras.optimizers.Adam()\n",
    "metrics = [chosen_metric]\n",
    "\n",
    "results, models = make_model_save_results(results, models, ind, data,\n",
    "                     layers = layers,\n",
    "                     batch_size = batch_size,\n",
    "                     name = ind,\n",
    "                     metrics = metrics,\n",
    "                     optimizer=optimizer,\n",
    "                     epochs=epochs)\n",
    "# results.loc[ind, 'Momentum'] = get_momentum(optimizer)\n",
    "ind +=1"
   ]
  },
  {
   "cell_type": "code",
   "execution_count": null,
   "metadata": {
    "executionInfo": {
     "elapsed": 611,
     "status": "ok",
     "timestamp": 1740334820132,
     "user": {
      "displayName": "Azin",
      "userId": "03052143291732337723"
     },
     "user_tz": 300
    },
    "id": "BFs4vtcbeUiO"
   },
   "outputs": [],
   "source": [
    "clean_reset_seed(random_state)\n",
    "epochs = 100\n",
    "batch_size = 32\n",
    "layers = [Dense(32, activation='relu',input_dim=x_train.shape[1]),\n",
    "          Dropout(.2),\n",
    "          Dense(16,activation='relu'),\n",
    "          Dense(8,activation='relu'),\n",
    "          Dropout(.1),\n",
    "          Dense(4,activation='relu'),\n",
    "          Dense(out_neuron, activation=out_activation)]\n",
    "\n",
    "optimizer = tf.keras.optimizers.Adam()\n",
    "metrics = [chosen_metric]\n",
    "\n",
    "results, models = make_model_save_results(results, models, ind,data,\n",
    "                     layers = layers,\n",
    "                     batch_size = batch_size,\n",
    "                     name = ind,\n",
    "                     metrics = metrics,\n",
    "                     optimizer=optimizer,\n",
    "                     epochs=epochs)\n",
    "# results.loc[ind, 'Momentum'] = get_momentum(optimizer)\n",
    "ind +=1"
   ]
  },
  {
   "cell_type": "code",
   "execution_count": null,
   "metadata": {
    "executionInfo": {
     "elapsed": 761,
     "status": "ok",
     "timestamp": 1740334820894,
     "user": {
      "displayName": "Azin",
      "userId": "03052143291732337723"
     },
     "user_tz": 300
    },
    "id": "ur9aoZNxkcX0"
   },
   "outputs": [],
   "source": [
    "clean_reset_seed(random_state)\n",
    "epochs = 100\n",
    "batch_size = 32\n",
    "layers = [Dense(32, activation='relu',input_dim=x_train.shape[1]),\n",
    "          Dense(16,activation='relu'),\n",
    "          Dense(8,activation='relu'),\n",
    "          Dense(out_neuron, activation=out_activation)]\n",
    "\n",
    "optimizer = tf.keras.optimizers.SGD()\n",
    "metrics = [chosen_metric]\n",
    "\n",
    "results, models = make_model_save_results(results, models, ind,data_over,\n",
    "                     layers = layers,\n",
    "                     batch_size = batch_size,\n",
    "                     name = ind,\n",
    "                     metrics = metrics,\n",
    "                     optimizer=optimizer,\n",
    "                     sampling = 'Over',\n",
    "                     epochs=epochs)\n",
    "results.loc[ind, 'Sampling'] = 'Over'\n",
    "# results.loc[ind, 'Momentum'] = get_momentum(optimizer)\n",
    "ind +=1"
   ]
  },
  {
   "cell_type": "code",
   "execution_count": null,
   "metadata": {
    "executionInfo": {
     "elapsed": 1123,
     "status": "ok",
     "timestamp": 1740334822018,
     "user": {
      "displayName": "Azin",
      "userId": "03052143291732337723"
     },
     "user_tz": 300
    },
    "id": "id16Yb1NWHgc"
   },
   "outputs": [],
   "source": [
    "clean_reset_seed(random_state)\n",
    "epochs = 100\n",
    "batch_size = 32\n",
    "layers = [Dense(32, activation='relu',input_dim=x_train.shape[1]),\n",
    "          Dense(16,activation='relu'),\n",
    "          Dense(8,activation='relu'),\n",
    "          Dense(out_neuron, activation=out_activation)]\n",
    "\n",
    "optimizer = tf.keras.optimizers.Adam()\n",
    "metrics = [chosen_metric]\n",
    "\n",
    "results, models = make_model_save_results(results, models, ind,data_under,\n",
    "                     layers = layers,\n",
    "                     batch_size = batch_size,\n",
    "                     name = ind,\n",
    "                     metrics = metrics,\n",
    "                     optimizer=optimizer,\n",
    "                     sampling = 'Under',\n",
    "                     epochs=epochs)\n",
    "results.loc[ind, 'Sampling'] = 'Under'\n",
    "# results.loc[ind, 'Momentum'] = get_momentum(optimizer)\n",
    "ind +=1"
   ]
  },
  {
   "cell_type": "code",
   "execution_count": null,
   "metadata": {
    "executionInfo": {
     "elapsed": 991,
     "status": "ok",
     "timestamp": 1740334823112,
     "user": {
      "displayName": "Azin",
      "userId": "03052143291732337723"
     },
     "user_tz": 300
    },
    "id": "FCxAWdpBltBG"
   },
   "outputs": [],
   "source": [
    "clean_reset_seed(random_state)\n",
    "epochs = 100\n",
    "batch_size = 32\n",
    "layers = [Dense(32, activation='relu',input_dim=x_train.shape[1]),\n",
    "          Dense(16,activation='relu'),\n",
    "          Dense(8,activation='relu'),\n",
    "          Dense(out_neuron, activation=out_activation)]\n",
    "\n",
    "optimizer = tf.keras.optimizers.Adam()\n",
    "metrics = [chosen_metric]\n",
    "\n",
    "results, models = make_model_save_results(results, models, ind,data_over,\n",
    "                     layers = layers,\n",
    "                     batch_size = batch_size,\n",
    "                     name = ind,\n",
    "                     metrics = metrics,\n",
    "                     optimizer=optimizer,\n",
    "                     sampling = 'Over',\n",
    "                     epochs=epochs)\n",
    "results.loc[ind, 'Sampling'] = 'Over'\n",
    "# results.loc[ind, 'Momentum'] = get_momentum(optimizer)\n",
    "ind +=1"
   ]
  },
  {
   "cell_type": "code",
   "execution_count": null,
   "metadata": {
    "executionInfo": {
     "elapsed": 613,
     "status": "ok",
     "timestamp": 1740334823730,
     "user": {
      "displayName": "Azin",
      "userId": "03052143291732337723"
     },
     "user_tz": 300
    },
    "id": "tE4GTLHJW03_"
   },
   "outputs": [],
   "source": [
    "clean_reset_seed(random_state)\n",
    "epochs = 100\n",
    "batch_size = 32\n",
    "layers = [Dense(32, activation='relu',input_dim=x_train.shape[1]),\n",
    "          Dropout(.2),\n",
    "          Dense(16,activation='relu'),\n",
    "          Dropout(.1),\n",
    "          Dense(8,activation='relu'),\n",
    "          Dense(out_neuron, activation=out_activation)]\n",
    "\n",
    "optimizer = tf.keras.optimizers.Adam()\n",
    "metrics = [chosen_metric]\n",
    "\n",
    "results, models = make_model_save_results(results, models, ind,data_over,\n",
    "                     layers = layers,\n",
    "                     batch_size = batch_size,\n",
    "                     name = ind,\n",
    "                     metrics = metrics,\n",
    "                     optimizer=optimizer,\n",
    "                     sampling = 'Over',\n",
    "                     epochs=epochs)\n",
    "results.loc[ind, 'Sampling'] = 'Over'\n",
    "# results.loc[ind, 'Momentum'] = get_momentum(optimizer)\n",
    "ind +=1"
   ]
  },
  {
   "cell_type": "code",
   "execution_count": null,
   "metadata": {
    "executionInfo": {
     "elapsed": 830,
     "status": "ok",
     "timestamp": 1740334824559,
     "user": {
      "displayName": "Azin",
      "userId": "03052143291732337723"
     },
     "user_tz": 300
    },
    "id": "YgpTjK6moJFg"
   },
   "outputs": [],
   "source": [
    "clean_reset_seed(random_state)\n",
    "epochs = 100\n",
    "batch_size = 32\n",
    "layers = [Dense(32, activation='relu',input_dim=x_train.shape[1]),\n",
    "          Dropout(.2),\n",
    "          Dense(16,activation='relu'),\n",
    "          Dropout(.1),\n",
    "          Dense(8,activation='relu'),\n",
    "          Dense(out_neuron, activation=out_activation)]\n",
    "\n",
    "optimizer = tf.keras.optimizers.Adam()\n",
    "metrics = [chosen_metric]\n",
    "\n",
    "results, models = make_model_save_results(results, models, ind,data_over,\n",
    "                     layers = layers,\n",
    "                     batch_size = batch_size,\n",
    "                     name = ind,\n",
    "                     metrics = metrics,\n",
    "                     optimizer=optimizer,\n",
    "                     sampling = 'Over',\n",
    "                     epochs=epochs)\n",
    "results.loc[ind, 'Sampling'] = 'Over'\n",
    "# results.loc[ind, 'Momentum'] = get_momentum(optimizer)\n",
    "ind +=1"
   ]
  },
  {
   "cell_type": "code",
   "execution_count": null,
   "metadata": {
    "executionInfo": {
     "elapsed": 1258,
     "status": "ok",
     "timestamp": 1740334825816,
     "user": {
      "displayName": "Azin",
      "userId": "03052143291732337723"
     },
     "user_tz": 300
    },
    "id": "lJM6-fmYUCIQ"
   },
   "outputs": [],
   "source": [
    "clean_reset_seed(random_state)\n",
    "epochs = 100\n",
    "batch_size = 32\n",
    "layers = [Dense(32, activation='relu',input_dim=x_train.shape[1]),\n",
    "          Dropout(.2),\n",
    "          Dense(16,activation='tanh'),\n",
    "          Dropout(.1),\n",
    "          Dense(8,activation='tanh'),\n",
    "          Dense(out_neuron, activation=out_activation)]\n",
    "\n",
    "optimizer = tf.keras.optimizers.Adam()\n",
    "metrics = [chosen_metric]\n",
    "\n",
    "results, models = make_model_save_results(results, models, ind,data_over,\n",
    "                     layers = layers,\n",
    "                     batch_size = batch_size,\n",
    "                     name = ind,\n",
    "                     metrics = metrics,\n",
    "                     optimizer=optimizer,\n",
    "                     sampling = 'Over',\n",
    "                     epochs=epochs)\n",
    "results.loc[ind, 'Sampling'] = 'Over'\n",
    "# results.loc[ind, 'Momentum'] = get_momentum(optimizer)\n",
    "ind +=1"
   ]
  },
  {
   "cell_type": "code",
   "execution_count": null,
   "metadata": {
    "executionInfo": {
     "elapsed": 2,
     "status": "ok",
     "timestamp": 1740334825817,
     "user": {
      "displayName": "Azin",
      "userId": "03052143291732337723"
     },
     "user_tz": 300
    },
    "id": "WBp3OcaBnjRA"
   },
   "outputs": [],
   "source": [
    "ind =9"
   ]
  },
  {
   "cell_type": "code",
   "execution_count": null,
   "metadata": {
    "executionInfo": {
     "elapsed": 920,
     "status": "ok",
     "timestamp": 1740334826736,
     "user": {
      "displayName": "Azin",
      "userId": "03052143291732337723"
     },
     "user_tz": 300
    },
    "id": "vNXUe8A2XZiq"
   },
   "outputs": [],
   "source": [
    "clean_reset_seed(random_state)\n",
    "epochs = 150\n",
    "batch_size = 32\n",
    "layers = [Dense(32, activation='tanh',input_dim=x_train.shape[1]),\n",
    "          Dropout(.2),\n",
    "          Dense(16,activation='tanh'),\n",
    "          Dropout(.1),\n",
    "          Dense(8,activation='tanh'),\n",
    "          Dense(out_neuron, activation=out_activation)]\n",
    "\n",
    "optimizer = tf.keras.optimizers.Adam()\n",
    "metrics = [chosen_metric]\n",
    "\n",
    "results, models = make_model_save_results(results, models, ind,data_over,\n",
    "                     layers = layers,\n",
    "                     batch_size = batch_size,\n",
    "                     name = ind,\n",
    "                     metrics = metrics,\n",
    "                     optimizer=optimizer,\n",
    "                     sampling = 'Over',\n",
    "                     epochs=epochs)\n",
    "results.loc[ind, 'Sampling'] = 'Over'\n",
    "# results.loc[ind, 'Momentum'] = get_momentum(optimizer)\n",
    "ind +=1"
   ]
  },
  {
   "cell_type": "code",
   "execution_count": null,
   "metadata": {
    "executionInfo": {
     "elapsed": 1093,
     "status": "ok",
     "timestamp": 1740334827828,
     "user": {
      "displayName": "Azin",
      "userId": "03052143291732337723"
     },
     "user_tz": 300
    },
    "id": "b3kGaJZq9Hzd"
   },
   "outputs": [],
   "source": [
    "clean_reset_seed(random_state)\n",
    "epochs = 100\n",
    "batch_size = 32\n",
    "layers = [Dense(64, activation='relu',input_dim=x_train.shape[1]),\n",
    "          Dropout(.2),\n",
    "          Dense(32, activation='tanh'),\n",
    "          Dropout(.1),\n",
    "          Dense(16,activation='tanh'),\n",
    "          Dropout(.1),\n",
    "          Dense(8,activation='tanh'),\n",
    "          Dense(out_neuron, activation=out_activation)]\n",
    "\n",
    "optimizer = tf.keras.optimizers.Adam()\n",
    "metrics = [chosen_metric]\n",
    "\n",
    "results, models = make_model_save_results(results, models, ind,data_over,\n",
    "                     layers = layers,\n",
    "                     batch_size = batch_size,\n",
    "                     name = ind,\n",
    "                     metrics = metrics,\n",
    "                     optimizer=optimizer,\n",
    "                     sampling = 'Over',\n",
    "                     epochs=epochs)\n",
    "results.loc[ind, 'Sampling'] = 'Over'\n",
    "# results.loc[ind, 'Momentum'] = get_momentum(optimizer)\n",
    "ind +=1"
   ]
  },
  {
   "cell_type": "code",
   "execution_count": null,
   "metadata": {
    "executionInfo": {
     "elapsed": 615,
     "status": "ok",
     "timestamp": 1740334828644,
     "user": {
      "displayName": "Azin",
      "userId": "03052143291732337723"
     },
     "user_tz": 300
    },
    "id": "VsUiTVDi-kdK"
   },
   "outputs": [],
   "source": [
    "clean_reset_seed(random_state)\n",
    "epochs = 100\n",
    "batch_size = 32\n",
    "layers = [Dense(64, activation='relu',input_dim=x_train.shape[1]),\n",
    "          Dropout(.2),\n",
    "          Dense(32, activation='tanh'),\n",
    "          Dropout(.1),\n",
    "          Dense(16,activation='tanh'),\n",
    "          Dropout(.1),\n",
    "          Dense(8,activation='tanh'),\n",
    "          Dense(out_neuron, activation=out_activation)]\n",
    "\n",
    "optimizer = tf.keras.optimizers.SGD(learning_rate=1e-3, momentum=.95)\n",
    "metrics = [chosen_metric]\n",
    "\n",
    "results, models = make_model_save_results(results, models, ind,data_over,\n",
    "                     layers = layers,\n",
    "                     batch_size = batch_size,\n",
    "                     name = ind,\n",
    "                     metrics = metrics,\n",
    "                     optimizer=optimizer,\n",
    "                     sampling = 'Over',\n",
    "                     epochs=epochs)\n",
    "results.loc[ind, 'Sampling'] = 'Over'\n",
    "# results.loc[ind, 'Momentum'] = get_momentum(optimizer)\n",
    "ind +=1"
   ]
  },
  {
   "cell_type": "code",
   "execution_count": null,
   "metadata": {
    "executionInfo": {
     "elapsed": 830,
     "status": "ok",
     "timestamp": 1740334829475,
     "user": {
      "displayName": "Azin",
      "userId": "03052143291732337723"
     },
     "user_tz": 300
    },
    "id": "7rSVpdPGBb2u"
   },
   "outputs": [],
   "source": [
    "clean_reset_seed(random_state)\n",
    "epochs = 100\n",
    "batch_size = 32\n",
    "momentum = .9\n",
    "layers = [Dense(64, activation='relu',input_dim=x_train.shape[1]),\n",
    "          Dropout(.2),\n",
    "          Dense(32, activation='tanh'),\n",
    "          Dropout(.1),\n",
    "          Dense(16,activation='tanh'),\n",
    "          Dropout(.1),\n",
    "          Dense(8,activation='tanh'),\n",
    "          Dense(out_neuron, activation=out_activation)]\n",
    "\n",
    "optimizer = tf.keras.optimizers.SGD(learning_rate=1e-3, momentum=momentum)\n",
    "metrics = [chosen_metric]\n",
    "\n",
    "results, models = make_model_save_results(results, models, ind,data_over,\n",
    "                     layers = layers,\n",
    "                     batch_size = batch_size,\n",
    "                     name = ind,\n",
    "                     metrics = metrics,\n",
    "                     optimizer=optimizer,\n",
    "                     sampling = 'Over',\n",
    "                     epochs=epochs)\n",
    "results.loc[ind, 'Sampling'] = 'Over'\n",
    "# results.loc[ind, 'Momentum'] = get_momentum(optimizer)\n",
    "ind +=1"
   ]
  },
  {
   "cell_type": "code",
   "execution_count": null,
   "metadata": {
    "executionInfo": {
     "elapsed": 599,
     "status": "ok",
     "timestamp": 1740334830254,
     "user": {
      "displayName": "Azin",
      "userId": "03052143291732337723"
     },
     "user_tz": 300
    },
    "id": "0zWpWCIYYHs8"
   },
   "outputs": [],
   "source": [
    "clean_reset_seed(random_state)\n",
    "epochs = 100\n",
    "batch_size = 32\n",
    "momentum = .95\n",
    "layers = [Dense(64, activation='relu',input_dim=x_train.shape[1]),\n",
    "          Dropout(.3),\n",
    "          Dense(32, activation='tanh'),\n",
    "          Dropout(.2),\n",
    "          Dense(16,activation='tanh'),\n",
    "          Dropout(.1),\n",
    "          Dense(8,activation='tanh'),\n",
    "          Dense(out_neuron, activation=out_activation)]\n",
    "\n",
    "optimizer = tf.keras.optimizers.SGD(learning_rate=1e-4, momentum=momentum)\n",
    "metrics = [chosen_metric]\n",
    "\n",
    "results, models = make_model_save_results(results, models, ind,data_over,\n",
    "                     layers = layers,\n",
    "                     batch_size = batch_size,\n",
    "                     name = ind,\n",
    "                     metrics = metrics,\n",
    "                     optimizer=optimizer,\n",
    "                     sampling = 'Over',\n",
    "                     epochs=epochs)\n",
    "results.loc[ind, 'Sampling'] = 'Over'\n",
    "# results.loc[ind, 'Momentum'] = get_momentum(optimizer)\n",
    "ind +=1"
   ]
  },
  {
   "cell_type": "code",
   "execution_count": null,
   "metadata": {
    "colab": {
     "base_uri": "https://localhost:8080/",
     "height": 852
    },
    "executionInfo": {
     "elapsed": 24,
     "status": "ok",
     "timestamp": 1740334830279,
     "user": {
      "displayName": "Azin",
      "userId": "03052143291732337723"
     },
     "user_tz": 300
    },
    "id": "AKNXyIt1TqPm",
    "outputId": "e51a6f7a-6d67-4dda-f61f-e7d8577011d4"
   },
   "outputs": [],
   "source": [
    "results"
   ]
  },
  {
   "cell_type": "code",
   "execution_count": null,
   "metadata": {
    "executionInfo": {
     "elapsed": 345,
     "status": "ok",
     "timestamp": 1740334830625,
     "user": {
      "displayName": "Azin",
      "userId": "03052143291732337723"
     },
     "user_tz": 300
    },
    "id": "Qy8vWjjfcJkw"
   },
   "outputs": [],
   "source": [
    "results.to_csv(f'{model_dir}/results.csv', index=False)"
   ]
  },
  {
   "cell_type": "code",
   "execution_count": null,
   "metadata": {
    "colab": {
     "base_uri": "https://localhost:8080/",
     "height": 1000
    },
    "executionInfo": {
     "elapsed": 2,
     "status": "ok",
     "timestamp": 1740334830628,
     "user": {
      "displayName": "Azin",
      "userId": "03052143291732337723"
     },
     "user_tz": 300
    },
    "id": "7mnEdoGnR8Tz",
    "outputId": "96be3d62-37aa-4261-bac1-4623a61cdec8"
   },
   "outputs": [],
   "source": [
    "results_sorted = (results\n",
    " .sort_values(by=[f'Validation {chosen_metric.title()}',\n",
    "                  f'Train {chosen_metric.title()}', f'|Train - Validation| {chosen_metric.title()}'],\n",
    "              ascending=[False, False, True]))\n",
    "\n",
    "display(results_sorted)\n",
    "index = results_sorted.head(1).index.values[0]\n",
    "selected_result = results.loc[index]\n",
    "selected_dict = selected_result.to_dict()\n",
    "display(selected_result)\n",
    "selected_sampling = selected_dict['Sampling']\n",
    "print(f'Chose index: {index}')"
   ]
  },
  {
   "cell_type": "code",
   "execution_count": null,
   "metadata": {
    "executionInfo": {
     "elapsed": 268,
     "status": "ok",
     "timestamp": 1740334830897,
     "user": {
      "displayName": "Azin",
      "userId": "03052143291732337723"
     },
     "user_tz": 300
    },
    "id": "JxxkCL8fPPOm"
   },
   "outputs": [],
   "source": [
    "from tensorflow import keras\n",
    "\n",
    "selected_model_loaded = keras.models.load_model(f\"{model_dir}/model{index}.keras\")"
   ]
  },
  {
   "cell_type": "code",
   "execution_count": null,
   "metadata": {
    "executionInfo": {
     "elapsed": 1,
     "status": "ok",
     "timestamp": 1740334830898,
     "user": {
      "displayName": "Azin",
      "userId": "03052143291732337723"
     },
     "user_tz": 300
    },
    "id": "_asyBGrwrPPD"
   },
   "outputs": [],
   "source": [
    "selected_model = models[index]"
   ]
  },
  {
   "cell_type": "code",
   "execution_count": null,
   "metadata": {
    "colab": {
     "base_uri": "https://localhost:8080/",
     "height": 653
    },
    "executionInfo": {
     "elapsed": 321,
     "status": "ok",
     "timestamp": 1740334831220,
     "user": {
      "displayName": "Azin",
      "userId": "03052143291732337723"
     },
     "user_tz": 300
    },
    "id": "K1XjypRMgKBv",
    "outputId": "d1ef4f30-db45-4d4a-c903-71c8ac0f77f5"
   },
   "outputs": [],
   "source": [
    "show_specific_metric_loss(index, chosen_metric)"
   ]
  },
  {
   "cell_type": "code",
   "execution_count": null,
   "metadata": {
    "colab": {
     "base_uri": "https://localhost:8080/"
    },
    "executionInfo": {
     "elapsed": 6,
     "status": "ok",
     "timestamp": 1740334831227,
     "user": {
      "displayName": "Azin",
      "userId": "03052143291732337723"
     },
     "user_tz": 300
    },
    "id": "WWAxdDrRVkEU",
    "outputId": "44b4d15a-07c2-4b0b-830e-e145398afd98"
   },
   "outputs": [],
   "source": [
    "data_under.keys()"
   ]
  },
  {
   "cell_type": "code",
   "execution_count": null,
   "metadata": {
    "colab": {
     "base_uri": "https://localhost:8080/",
     "height": 1000
    },
    "executionInfo": {
     "elapsed": 8218,
     "status": "ok",
     "timestamp": 1740334839445,
     "user": {
      "displayName": "Azin",
      "userId": "03052143291732337723"
     },
     "user_tz": 300
    },
    "id": "Tj4MxVH1hCCt",
    "outputId": "438289a0-ef17-4d22-88c6-922d6f119f74"
   },
   "outputs": [],
   "source": [
    "perf_df = pd.DataFrame()\n",
    "for n in ['train', 'validation', 'test']:\n",
    "  if selected_sampling == 'Original':\n",
    "    x = data[f'x_{n}']\n",
    "    y = data[f'y_{n}']\n",
    "  elif selected_sampling == 'Over':\n",
    "    x = data_over[f'x_{n}']\n",
    "    y = data_over[f'y_{n}']\n",
    "  elif selected_sampling == 'Under':\n",
    "    x = data_under[f'x_{n}']\n",
    "    y = data_under[f'y_{n}']\n",
    "  print(f'\\n{n.upper()} Performance')\n",
    "  perf, pred = model_performance(selected_model,x,y)\n",
    "  perf_df = pd.concat([perf_df, pd.DataFrame(perf, index=[n.title()])])\n",
    "\n",
    "  name = f\"Model {index}\"\n",
    "  name += f\"\\n{selected_dict['Sampling']} Sampling\"\n",
    "  name +=f\"\\n{selected_dict['Optimizer'].title()} Optimizer\"\n",
    "  if selected_dict['# Hidden Layers']>0:\n",
    "    name +=f\"\\n{selected_dict['# Hidden Layers']} Hidden Layers\"\n",
    "  if selected_dict['# Dropout Layers']>0:\n",
    "    name +=f\"\\n{selected_dict['# Dropout Layers']} Dropout Layers\"\n",
    "\n",
    "\n",
    "  if n in ['test']:\n",
    "    if is_classification:\n",
    "      confusion_matrix_sklearn(selected_model, x, y, partition=n.title(), name=name, label_map =label_map)\n",
    "      confusion_matrix_sklearn(selected_model, x, y, partition=n.title(), name=name, label_map ={})\n",
    "\n",
    "display(perf_df)\n"
   ]
  },
  {
   "cell_type": "code",
   "execution_count": null,
   "metadata": {
    "executionInfo": {
     "elapsed": 16,
     "status": "ok",
     "timestamp": 1740334839462,
     "user": {
      "displayName": "Azin",
      "userId": "03052143291732337723"
     },
     "user_tz": 300
    },
    "id": "n3xdgFG4Y_oY"
   },
   "outputs": [],
   "source": [
    "#ls images/model*loss_recall.png"
   ]
  },
  {
   "cell_type": "code",
   "execution_count": null,
   "metadata": {
    "colab": {
     "base_uri": "https://localhost:8080/",
     "height": 1000
    },
    "executionInfo": {
     "elapsed": 2886,
     "status": "ok",
     "timestamp": 1740334842354,
     "user": {
      "displayName": "Azin",
      "userId": "03052143291732337723"
     },
     "user_tz": 300
    },
    "id": "he1tVn5rUZOW",
    "outputId": "d3fa27a0-032d-4dd4-a9ad-648c3e7b0eb9"
   },
   "outputs": [],
   "source": [
    "image_fnames = get_loss_metric(chosen_metric)\n",
    "for f in image_fnames:\n",
    "  show_image(f)"
   ]
  },
  {
   "cell_type": "code",
   "execution_count": null,
   "metadata": {
    "colab": {
     "base_uri": "https://localhost:8080/",
     "height": 241
    },
    "executionInfo": {
     "elapsed": 234,
     "status": "ok",
     "timestamp": 1740335810280,
     "user": {
      "displayName": "Azin",
      "userId": "03052143291732337723"
     },
     "user_tz": 300
    },
    "id": "iGShT5gDVc5B",
    "outputId": "59f709ff-9586-40a5-d423-94df485e62f9"
   },
   "outputs": [],
   "source": [
    "resnew = results.copy()\n",
    "\n",
    "resnew = resnew.drop(['# Hidden Layers', '# Neurons (Hidden)', 'Activation Function (Hidden)'], axis=1)\n",
    "def conv_str_list_str(x):\n",
    "  if type(x) == str:\n",
    "    x = eval(x)\n",
    "  if x == []:\n",
    "    return ''\n",
    "  return ', '.join([str(i) for i in x])\n",
    "\n",
    "\n",
    "for col in ['Activation Function', 'Regularization', '# Neurons']:\n",
    "  resnew[col] = resnew[col].apply(lambda x: conv_str_list_str(x))\n",
    "resnew = resnew.rename(columns={'Validation Recall': 'Valid Recall', '|Train - Validation| Recall': '|Train - Valid| Recall', 'Regularization': 'Reg.', 'Weight Initializer': 'Weight Init.'})\n",
    "resnew.head()"
   ]
  },
  {
   "cell_type": "code",
   "execution_count": null,
   "metadata": {
    "colab": {
     "base_uri": "https://localhost:8080/"
    },
    "executionInfo": {
     "elapsed": 8,
     "status": "ok",
     "timestamp": 1740335810423,
     "user": {
      "displayName": "Azin",
      "userId": "03052143291732337723"
     },
     "user_tz": 300
    },
    "id": "mTTednk9DCD7",
    "outputId": "3e04faff-f09a-4528-c2a7-9a21b87c47f4"
   },
   "outputs": [],
   "source": [
    "resnew.columns.tolist()"
   ]
  },
  {
   "cell_type": "code",
   "execution_count": null,
   "metadata": {
    "executionInfo": {
     "elapsed": 3,
     "status": "ok",
     "timestamp": 1740335826729,
     "user": {
      "displayName": "Azin",
      "userId": "03052143291732337723"
     },
     "user_tz": 300
    },
    "id": "H4Q9lC39Flfv"
   },
   "outputs": [],
   "source": [
    "col_orders = ['Sampling',\n",
    " '# Neurons',\n",
    " 'Activation Function',\n",
    " '# Dropout Layers',\n",
    " '# Epochs',\n",
    " 'Batch Size',\n",
    " 'Optimizer',\n",
    " 'Learning Rate',\n",
    " 'Momentum',\n",
    " 'Weight Init.',\n",
    " 'Reg.',\n",
    " 'Train Loss',\n",
    " 'Validation Loss',\n",
    " 'Train Recall',\n",
    " 'Valid Recall',\n",
    " '|Train - Valid| Recall',\n",
    "  'Time (min)']"
   ]
  },
  {
   "cell_type": "code",
   "execution_count": null,
   "metadata": {
    "colab": {
     "base_uri": "https://localhost:8080/",
     "height": 609
    },
    "executionInfo": {
     "elapsed": 52,
     "status": "ok",
     "timestamp": 1740335827326,
     "user": {
      "displayName": "Azin",
      "userId": "03052143291732337723"
     },
     "user_tz": 300
    },
    "id": "ARzjJ_gTGLn2",
    "outputId": "32a4df25-764b-412c-a945-148f68fe8932"
   },
   "outputs": [],
   "source": [
    "resnew[col_orders]"
   ]
  },
  {
   "cell_type": "code",
   "execution_count": null,
   "metadata": {
    "id": "FBjbTNZNGNut"
   },
   "outputs": [],
   "source": [
    "#results = pd.read_csv(f'{model_dir}/results.csv')\n",
    "#results = pd.read_csv(f'{model_dir}/results.csv').drop('Unnamed: 0', axis=1)\n",
    "#results.to_csv(f'{model_dir}/results.csv', index=False)"
   ]
  }
 ],
 "metadata": {
  "colab": {
   "authorship_tag": "ABX9TyMK0f2Cm7HydaTsyqsZ5uOk",
   "provenance": []
  },
  "kernelspec": {
   "display_name": "Python 3 (ipykernel)",
   "language": "python",
   "name": "python3"
  },
  "language_info": {
   "codemirror_mode": {
    "name": "ipython",
    "version": 3
   },
   "file_extension": ".py",
   "mimetype": "text/x-python",
   "name": "python",
   "nbconvert_exporter": "python",
   "pygments_lexer": "ipython3",
   "version": "3.9.6"
  }
 },
 "nbformat": 4,
 "nbformat_minor": 4
}
